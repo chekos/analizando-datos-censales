{
 "cells": [
  {
   "cell_type": "markdown",
   "metadata": {
    "slideshow": {
     "slide_type": "slide"
    }
   },
   "source": [
    "# Analizando Datos Censales con Pandas\n",
    "\n",
    "### Sergio Sánchez Zavala"
   ]
  },
  {
   "cell_type": "markdown",
   "metadata": {
    "slideshow": {
     "slide_type": "slide"
    }
   },
   "source": [
    "# ¿Quién soy?\n",
    "\n",
    "Mi nombre es Sergio Sánchez y soy investigador asociado en el PPIC (Instituto de Políticas Públicas de California) en el Centro de Educación Superior. El trabajo que hago allí cubre reformas de la educación de desarrollo en los colegios comunitarios de California, la movilidad económica y algunas cuestiones de inmigración."
   ]
  },
  {
   "cell_type": "markdown",
   "metadata": {
    "slideshow": {
     "slide_type": "slide"
    }
   },
   "source": [
    "# ¿Quién soy? (parte 2)\n",
    "\n",
    "Estoy muy interesado en la visualización de datos. Soy un facilitador en la recién formada [Sociedad de Visualización de Datos](https://www.datavisualizationsociety.com/the-team). Mi proyecto más reciente es [@tacosdedatos](https://twitter.com/tacosdedatos) - [tacosdedatos.com](https://tacosdedatos.com/) donde espero construir un lugar para aprender mejor el análisis de datos y la visualización de datos. Mejores prácticas, técnicas y conocimientos en español."
   ]
  },
  {
   "cell_type": "markdown",
   "metadata": {
    "slideshow": {
     "slide_type": "slide"
    }
   },
   "source": [
    "# Antes de empezar\n",
    "\n",
    "Los materiales se encuentran en GitHub en https://github.com/chekos/analizando-datos-censales\n",
    "```bash\n",
    "git clone https://github.com/chekos/analizando-datos-censales\n",
    "cd analizando-datos-censales\n",
    "```\n",
    "Solo necesitas Jupyter y Pandas si deseas seguir el taller desde tu computadora personal."
   ]
  },
  {
   "cell_type": "markdown",
   "metadata": {
    "slideshow": {
     "slide_type": "slide"
    }
   },
   "source": [
    "Estaremos utilizando Jupyter Lab pero puedes seguirnos en Jupyter Notebooks si lo prefieres."
   ]
  },
  {
   "cell_type": "markdown",
   "metadata": {
    "slideshow": {
     "slide_type": "slide"
    }
   },
   "source": [
    "# MyBinder.org \n",
    "Estaremos utilizando [mybinder.org](https://mybinder.org/) para este tutorial.\n",
    "\n",
    ">_Binder te permite crear entornos informáticos/computacionales personalizados que pueden ser compartidos y utilizados por muchos usuarios remotos. BinderHub es la tecnología que lo mantiene, la cual es una herramienta de código abierto que implementa el servicio Binder en la nube. Uno de esos despliegues vive aquí, en mybinder.org, y es de uso gratuito. Para obtener más información sobre la implementación de mybinder.org y el equipo que la ejecuta, consulte Acerca de mybinder.org._"
   ]
  },
  {
   "cell_type": "markdown",
   "metadata": {
    "slideshow": {
     "slide_type": "slide"
    }
   },
   "source": [
    "# Datos Censales (de Estados Unidos)"
   ]
  },
  {
   "cell_type": "markdown",
   "metadata": {
    "slideshow": {
     "slide_type": "slide"
    }
   },
   "source": [
    "El Censo de Estados Unidos implementa más de 130 encuestas cada año. Tienen encuestas de hogares con datos sobre educación, salúd, empleo, migración y muchos más temas.\n",
    "\n",
    "En el siguiente vínculo puedes ver una lista completa de las encuestas para el hogar: https://www.census.gov/programs-surveys/are-you-in-a-survey/survey-list/household-survey-list.html"
   ]
  },
  {
   "cell_type": "markdown",
   "metadata": {
    "slideshow": {
     "slide_type": "slide"
    }
   },
   "source": [
    "También tienen encuestas comerciales sobre comercios minoristas, mayoristas, importaciones / exportaciones, emprendimientos y [bibliotecas públicas](https://www.imls.gov/research-evaluation/data-collection/public-libraries-survey) entre muchas, muchas otras cosas.\n",
    "\n",
    "En el siguiente vínculo puedes ver una lista completa de las encuestas comerciales: https://www.census.gov/programs-surveys/are-you-in-a-survey/survey-list/business-survey-list.html"
   ]
  },
  {
   "cell_type": "markdown",
   "metadata": {
    "slideshow": {
     "slide_type": "slide"
    }
   },
   "source": [
    "Una de las encuestas de hogares más populares es American Community Survey o ACS, que utilizaremos hoy para nuestro análisis.\n",
    "\n",
    ">_La Encuesta sobre la Comunidad Estadounidense (ACS) ayuda a los funcionarios locales, líderes comunitarios y empresas a comprender los cambios que se están produciendo en sus comunidades. Es la principal fuente de información detallada sobre población y vivienda sobre nuestra nación._"
   ]
  },
  {
   "cell_type": "markdown",
   "metadata": {
    "slideshow": {
     "slide_type": "slide"
    }
   },
   "source": [
    "# ¿Cómo obtenerlos?\n",
    "El sitio web del Censo provee **muchas** maneras de acceder sus datos.\n",
    "\n",
    "[**AmericanFactFinder**](https://factfinder.census.gov/faces/nav/jsf/pages/index.xhtml)\n",
    "  - American FactFinder proporciona acceso a datos sobre los Estados Unidos, Puerto Rico y las Áreas de la Isla. Los datos en American FactFinder provienen de varios censos y encuestas."
   ]
  },
  {
   "cell_type": "markdown",
   "metadata": {
    "slideshow": {
     "slide_type": "slide"
    }
   },
   "source": [
    "# ¿Cómo obtenerlos?\n",
    "\n",
    "**Tablas Pre-computadas** \n",
    "\n",
    "También proporcionan tablas pre-computadas para temas populares como logros educativos o ingresos medios en varios niveles geográficos (región, área metropolitana, estado, condado, etc.)\n",
    "\n",
    "https://www.census.gov/data/tables.html"
   ]
  },
  {
   "cell_type": "markdown",
   "metadata": {
    "slideshow": {
     "slide_type": "slide"
    }
   },
   "source": [
    "# ¿Cómo obtenerlos?\n",
    "\n",
    "**IPUMS**\n",
    "\n",
    ">_IPUMS proporciona datos de censos y encuestas de todo el mundo integrados en el tiempo y el espacio. La integración y documentación de IPUMS facilita el estudio del cambio, la realización de investigaciones comparativas, la combinación de información entre los tipos de datos y el análisis de individuos dentro del contexto familiar y comunitario. Datos y servicios disponibles de forma gratuita._"
   ]
  },
  {
   "cell_type": "markdown",
   "metadata": {
    "slideshow": {
     "slide_type": "slide"
    }
   },
   "source": [
    "IPUMS son las siglas de **Integrated Public Microdata Series**\n",
    "![ipums](static/ipums.gif)"
   ]
  },
  {
   "cell_type": "markdown",
   "metadata": {
    "slideshow": {
     "slide_type": "slide"
    }
   },
   "source": [
    "# ¿Cómo obtenerlos utilizando `python`?\n",
    "Hay algunos paquetes de python en pypi.org relacionados con los datos del Censo. Aquí hay cuatro notables:"
   ]
  },
  {
   "cell_type": "markdown",
   "metadata": {
    "slideshow": {
     "slide_type": "slide"
    }
   },
   "source": [
    "`census` - [pypi](https://pypi.org/project/census/)\n",
    "\n",
    "> Un envoltorio simple para la API de la Oficina del Censo de los Estados Unidos.\n",
    "Proporciona acceso a los conjuntos de datos ACS, SF1 y SF3.\n",
    "\n",
    "```python\n",
    "from census import Census\n",
    "from us import states\n",
    "\n",
    "c = Census(\"MY_API_KEY\")\n",
    "c.acs5.get(('NAME', 'B25034_010E'),\n",
    "          {'for': 'state:{}'.format(states.MD.fips)})\n",
    "```"
   ]
  },
  {
   "cell_type": "markdown",
   "metadata": {
    "slideshow": {
     "slide_type": "slide"
    }
   },
   "source": [
    "`cenpy` - [pypi](https://pypi.org/project/cenpy/)\n",
    "\n",
    ">Una interfaz para explorar y consultar la API del censo de EE. UU. Y devolver los marcos de datos (DataFrames) de Pandas. Idealmente, este paquete está destinado para el análisis de datos exploratorios y se inspira en las interfaces y acs.R. \n",
    "\n",
    "La documentación incluye un [notebook introductorio](https://nbviewer.jupyter.org/github/ljwolf/cenpy/blob/master/demo.ipynb)"
   ]
  },
  {
   "cell_type": "markdown",
   "metadata": {
    "slideshow": {
     "slide_type": "slide"
    }
   },
   "source": [
    "`census-data-downloader` - [GitHub](https://github.com/datadesk/census-data-downloader) también es instalable por `pip`\n",
    "\n",
    "census-data-downloader es una interfaz de línea de comandos desarrollada por Los Angeles Times para descargar datos de censos y reformatearlos para humanos.\n",
    "\n",
    "```bash\n",
    "export CENSUS_API_KEY='<your API key>'\n",
    "censusdatadownloader --year 2010 medianage states\n",
    "```"
   ]
  },
  {
   "cell_type": "markdown",
   "metadata": {
    "slideshow": {
     "slide_type": "slide"
    }
   },
   "source": [
    "`censusdata` - [pypi](https://pypi.org/project/censusdata/)\n",
    "\n",
    ">Este paquete maneja los detalles de la interacción con la API de Census, para que pueda concentrarse en trabajar con los datos. Proporciona una clase para representar geografías del censo. También proporciona funciones para obtener más información sobre variables y tablas específicas y para buscar variables."
   ]
  },
  {
   "cell_type": "markdown",
   "metadata": {
    "slideshow": {
     "slide_type": "slide"
    }
   },
   "source": [
    "# ¡Analicemos algunos datos del censo!"
   ]
  }
 ],
 "metadata": {
  "kernelspec": {
   "display_name": "Python 3",
   "language": "python",
   "name": "python3"
  },
  "language_info": {
   "codemirror_mode": {
    "name": "ipython",
    "version": 3
   },
   "file_extension": ".py",
   "mimetype": "text/x-python",
   "name": "python",
   "nbconvert_exporter": "python",
   "pygments_lexer": "ipython3",
   "version": "3.7.3"
  },
  "livereveal": {
   "autolaunch": true,
   "footer": "<h2><a href='https://github.com/chekos/'><i class='fab fa-github'></i>/chekos</a><br><a href='https://twitter.com/chekoswh'><i class='fab fa-twitter'></i>@ChekosWH</a><br><a href='https://tacosdedatos.com/'><i class='fas fa-link'></i>tacosdedatos</h2></a>",
   "header": "<link rel='stylesheet' href='https://use.fontawesome.com/releases/v5.8.1/css/all.css' integrity='sha384-50oBUHEmvpQ+1lW4y57PTFmhCaXp0ML5d60M1M7uH2+nqUivzIebhndOJK28anvf' crossorigin='anonymous'><link rel='stylesheet' href='static/style.css' crossorigin='anonymous'><div class='myheader' style='transform:translate(10%, 15px);'><h2>PyCon 2019 - <a>bit.ly/census-data-pycon2019</a></h2></div>",
   "theme": "solarized",
   "transition": "slide"
  }
 },
 "nbformat": 4,
 "nbformat_minor": 2
}
