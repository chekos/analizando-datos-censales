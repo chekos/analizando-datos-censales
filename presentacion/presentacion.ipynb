{
 "cells": [
  {
   "cell_type": "markdown",
   "metadata": {
    "slideshow": {
     "slide_type": "slide"
    }
   },
   "source": [
    "# Analyzing Census Data with Pandas\n",
    "\n",
    "### Sergio Sánchez Zavala"
   ]
  },
  {
   "cell_type": "markdown",
   "metadata": {
    "slideshow": {
     "slide_type": "slide"
    }
   },
   "source": [
    "# Who am I?\n",
    "\n",
    "My name is Sergio Sánchez and I'm a research associate at PPIC (Public Policy Institute of California) in the Higher Ed Center. The work I do there covers developmental education reform in California Community Colleges, economic mobility, and some immigration stuff. "
   ]
  },
  {
   "cell_type": "markdown",
   "metadata": {
    "slideshow": {
     "slide_type": "slide"
    }
   },
   "source": [
    "# Who am I? (part 2)\n",
    "\n",
    "I'm very interested in data visualization. I'm a facilitator in the newly formed [Data Visualization Society](https://www.datavisualizationsociety.com/the-team). My newest project is [@tacosdedatos](https://twitter.com/tacosdedatos) - [tacosdedatos.com](https://tacosdedatos.com/) where I hope to build a place to learn data analysis and data visualization best practices, techniques, and knowledge in Spanish.\n",
    "\n"
   ]
  },
  {
   "cell_type": "markdown",
   "metadata": {
    "slideshow": {
     "slide_type": "slide"
    }
   },
   "source": [
    "# Housekeeping\n",
    "\n",
    "Materials are on GitHub at https://github.com/chekos/analyzing-census-data\n",
    "```bash\n",
    "git clone https://github.com/chekos/analyzing-census-data\n",
    "cd analyzing-census-data\n",
    "```\n",
    "\n",
    "You only need jupyter and pandas to follow along in your personal computer."
   ]
  },
  {
   "cell_type": "markdown",
   "metadata": {
    "slideshow": {
     "slide_type": "slide"
    }
   },
   "source": [
    "We will be using Jupyter Lab but you can follow along in a Jupyter Notebook if you're more comfortable that way."
   ]
  },
  {
   "cell_type": "markdown",
   "metadata": {
    "slideshow": {
     "slide_type": "slide"
    }
   },
   "source": [
    "# MyBinder.org \n",
    "We'll be using [mybinder.org](https://mybinder.org/) to go through this tutorial.\n",
    ">Binder allows you to create custom computing environments that can be shared and used by many remote users. It is powered by BinderHub, which is an open-source tool that deploys the Binder service in the cloud. One-such deployment lives here, at mybinder.org, and is free to use. For more information about the mybinder.org deployment and the team that runs it, see About mybinder.org."
   ]
  },
  {
   "cell_type": "markdown",
   "metadata": {
    "slideshow": {
     "slide_type": "slide"
    }
   },
   "source": [
    "# Census Data"
   ]
  },
  {
   "cell_type": "markdown",
   "metadata": {
    "slideshow": {
     "slide_type": "slide"
    }
   },
   "source": [
    "The US Census conducts more than 130 surveys every year. They have households surveys with data on education, health, employment, migration and many more topics. \n",
    "\n",
    "https://www.census.gov/programs-surveys/are-you-in-a-survey/survey-list/household-survey-list.html"
   ]
  },
  {
   "cell_type": "markdown",
   "metadata": {
    "slideshow": {
     "slide_type": "slide"
    }
   },
   "source": [
    "They also have business surveys on retail, wholesale, imports/exports, entrepeneurship, and [public libraries](https://www.imls.gov/research-evaluation/data-collection/public-libraries-survey) among many, many other things.\n",
    "\n",
    "https://www.census.gov/programs-surveys/are-you-in-a-survey/survey-list/business-survey-list.html"
   ]
  },
  {
   "cell_type": "markdown",
   "metadata": {
    "slideshow": {
     "slide_type": "slide"
    }
   },
   "source": [
    "One of the most popular households surveys are the American Community Survey or ACS which we will be using for our analysis today.\n",
    "\n",
    ">The American Community Survey (ACS) helps local officials, community leaders, and businesses understand the changes taking place in their communities. It is the premier source for detailed population and housing information about our nation."
   ]
  },
  {
   "cell_type": "markdown",
   "metadata": {
    "slideshow": {
     "slide_type": "slide"
    }
   },
   "source": [
    "# Where to get it?\n",
    "\n",
    "The Census website provides **a lot** of ways to access their data.\n",
    "\n",
    "[**AmericanFactFinder**](https://factfinder.census.gov/faces/nav/jsf/pages/index.xhtml)\n",
    "  - American FactFinder provides access to data about the United States, Puerto Rico and the Island Areas. The data in American FactFinder come from several censuses and surveys. \n",
    "  "
   ]
  },
  {
   "cell_type": "markdown",
   "metadata": {
    "slideshow": {
     "slide_type": "slide"
    }
   },
   "source": [
    "# Where to get it?\n",
    "\n",
    "**Pre-computed Tables** \n",
    "\n",
    "They also provide pre-computed tables for popular topics like educational attainment or median incomes at various geographic levels (region, metropolitan area, state, county, etc)\n",
    "\n",
    "https://www.census.gov/data/tables.html"
   ]
  },
  {
   "cell_type": "markdown",
   "metadata": {
    "slideshow": {
     "slide_type": "slide"
    }
   },
   "source": [
    "# Where to get it?\n",
    "\n",
    "**IPUMS**\n",
    "\n",
    ">IPUMS provides census and survey data from around the world integrated across time and space. IPUMS integration and documentation makes it easy to study change, conduct comparative research, merge information across data types, and analyze individuals within family and community context. Data and services available free of charge."
   ]
  },
  {
   "cell_type": "markdown",
   "metadata": {
    "slideshow": {
     "slide_type": "slide"
    }
   },
   "source": [
    "IPUMS stands for **Integrated Public Microdata Series**\n",
    "![ipums](static/ipums.gif)"
   ]
  },
  {
   "cell_type": "markdown",
   "metadata": {
    "slideshow": {
     "slide_type": "slide"
    }
   },
   "source": [
    "# How do I get it using `python`?\n",
    "There are a few python packages on pypi.org related to Census data. Here are four notable ones:"
   ]
  },
  {
   "cell_type": "markdown",
   "metadata": {
    "slideshow": {
     "slide_type": "slide"
    }
   },
   "source": [
    "`census` - [pypi](https://pypi.org/project/census/)\n",
    "\n",
    "> A simple wrapper for the United States Census Bureau’s API.\n",
    "Provides access to ACS, SF1, and SF3 data sets.\n",
    "\n",
    "```python\n",
    "from census import Census\n",
    "from us import states\n",
    "\n",
    "c = Census(\"MY_API_KEY\")\n",
    "c.acs5.get(('NAME', 'B25034_010E'),\n",
    "          {'for': 'state:{}'.format(states.MD.fips)})\n",
    "```"
   ]
  },
  {
   "cell_type": "markdown",
   "metadata": {
    "slideshow": {
     "slide_type": "slide"
    }
   },
   "source": [
    "`cenpy` - [pypi](https://pypi.org/project/cenpy/)\n",
    "\n",
    ">An interface to explore and query the US Census API and return Pandas Dataframes. Ideally, this package is intended for exploratory data analysis and draws inspiration from sqlalchemy-like interfaces and acs.R.\n",
    "\n",
    "The docs include an [intro notebook](https://nbviewer.jupyter.org/github/ljwolf/cenpy/blob/master/demo.ipynb)"
   ]
  },
  {
   "cell_type": "markdown",
   "metadata": {
    "slideshow": {
     "slide_type": "slide"
    }
   },
   "source": [
    "`census-data-downloader` - [GitHub](https://github.com/datadesk/census-data-downloader) but also pip installable\n",
    "\n",
    "census-data-downloader is a Command Line Interface developed by the Los Angeles Times to download Census data and reformat it for humans.\n",
    "\n",
    "```bash\n",
    "export CENSUS_API_KEY='<your API key>'\n",
    "censusdatadownloader --year 2010 medianage states\n",
    "```"
   ]
  },
  {
   "cell_type": "markdown",
   "metadata": {
    "slideshow": {
     "slide_type": "slide"
    }
   },
   "source": [
    "`censusdata` - [pypi](https://pypi.org/project/censusdata/)\n",
    "\n",
    ">This package handles the details of interacting with the Census API for you, so that you can focus on working with the data. It provides a class for representing Census geographies. It also provides functions for gaining further information about specific variables and tables and for searching for variables."
   ]
  },
  {
   "cell_type": "markdown",
   "metadata": {
    "slideshow": {
     "slide_type": "slide"
    }
   },
   "source": [
    "# Let's analyze some census data!"
   ]
  }
 ],
 "metadata": {
  "kernelspec": {
   "display_name": "Python 3",
   "language": "python",
   "name": "python3"
  },
  "language_info": {
   "codemirror_mode": {
    "name": "ipython",
    "version": 3
   },
   "file_extension": ".py",
   "mimetype": "text/x-python",
   "name": "python",
   "nbconvert_exporter": "python",
   "pygments_lexer": "ipython3",
   "version": "3.7.3"
  },
  "livereveal": {
   "autolaunch": true,
   "footer": "<h2><a href='https://github.com/chekos/'><i class='fab fa-github'></i>/chekos</a><br><a href='https://twitter.com/chekoswh'><i class='fab fa-twitter'></i>@ChekosWH</a><br><a href='https://tacosdedatos.com/'><i class='fas fa-link'></i>tacosdedatos</h2></a>",
   "header": "<link rel='stylesheet' href='https://use.fontawesome.com/releases/v5.8.1/css/all.css' integrity='sha384-50oBUHEmvpQ+1lW4y57PTFmhCaXp0ML5d60M1M7uH2+nqUivzIebhndOJK28anvf' crossorigin='anonymous'><link rel='stylesheet' href='static/style.css' crossorigin='anonymous'><div class='myheader' style='transform:translate(10%, 15px);'><h2>PyCon 2019 - <a>bit.ly/census-data-pycon2019</a></h2></div>",
   "theme": "solarized",
   "transition": "slide"
  }
 },
 "nbformat": 4,
 "nbformat_minor": 2
}
