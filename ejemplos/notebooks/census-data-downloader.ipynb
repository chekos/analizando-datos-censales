{
 "cells": [
  {
   "cell_type": "markdown",
   "metadata": {},
   "source": [
    "# Los Angeles Times datadesk's `census-data-downloader` \n",
    "\n",
    "Repo: https://github.com/datadesk/census-data-downloader \n",
    "\n",
    "Needs an API KEY."
   ]
  },
  {
   "cell_type": "code",
   "execution_count": 1,
   "metadata": {},
   "outputs": [],
   "source": [
    "import pandas as pd\n",
    "from pathlib import Path\n",
    "from tools import tree"
   ]
  },
  {
   "cell_type": "code",
   "execution_count": 3,
   "metadata": {},
   "outputs": [],
   "source": [
    "RAW_DATA_PATH = Path(\"../data/raw/\")\n",
    "PROCESSED_DATA_PATH = Path(\"../data/processed/\")"
   ]
  },
  {
   "cell_type": "markdown",
   "metadata": {},
   "source": [
    "`census-data-downloader` will look for an enviornmental variable with your Census API Key.\n",
    "\n",
    "```\n",
    "%env CENSUS_API_KEY=<Your API Key here>\n",
    "```"
   ]
  },
  {
   "cell_type": "code",
   "execution_count": 24,
   "metadata": {},
   "outputs": [],
   "source": [
    "!censusdatadownloader --year 2017 --data-dir ../data/ medianage counties"
   ]
  },
  {
   "cell_type": "markdown",
   "metadata": {},
   "source": [
    "It will create 2 datafiles:\n",
    "1. A raw data file in your `data-dir`/raw\n",
    "2. A human-readable data file in your `data-dir`/processed"
   ]
  },
  {
   "cell_type": "code",
   "execution_count": 4,
   "metadata": {},
   "outputs": [
    {
     "name": "stdout",
     "output_type": "stream",
     "text": [
      "+ ../data/raw\n",
      "    + .DS_Store\n",
      "    + acs_data.csv.gz\n",
      "    + acs_data.dta.gz\n",
      "    + cps_data.dta.gz\n"
     ]
    }
   ],
   "source": [
    "tree(RAW_DATA_PATH)"
   ]
  },
  {
   "cell_type": "code",
   "execution_count": 15,
   "metadata": {},
   "outputs": [],
   "source": [
    "raw_data = pd.read_csv(RAW_DATA_PATH / \"acs5_2017_medianage_states.csv\")\n",
    "processed_data = pd.read_csv(PROCESSED_DATA_PATH / \"acs5_2017_medianage_states.csv\")"
   ]
  },
  {
   "cell_type": "code",
   "execution_count": 16,
   "metadata": {},
   "outputs": [
    {
     "data": {
      "text/html": [
       "<div>\n",
       "<style scoped>\n",
       "    .dataframe tbody tr th:only-of-type {\n",
       "        vertical-align: middle;\n",
       "    }\n",
       "\n",
       "    .dataframe tbody tr th {\n",
       "        vertical-align: top;\n",
       "    }\n",
       "\n",
       "    .dataframe thead th {\n",
       "        text-align: right;\n",
       "    }\n",
       "</style>\n",
       "<table border=\"1\" class=\"dataframe\">\n",
       "  <thead>\n",
       "    <tr style=\"text-align: right;\">\n",
       "      <th></th>\n",
       "      <th>B01002_001E</th>\n",
       "      <th>B01002_002E</th>\n",
       "      <th>B01002_003E</th>\n",
       "      <th>name</th>\n",
       "      <th>state</th>\n",
       "    </tr>\n",
       "  </thead>\n",
       "  <tbody>\n",
       "    <tr>\n",
       "      <th>0</th>\n",
       "      <td>40.1</td>\n",
       "      <td>38.1</td>\n",
       "      <td>41.8</td>\n",
       "      <td>Puerto Rico</td>\n",
       "      <td>72</td>\n",
       "    </tr>\n",
       "    <tr>\n",
       "      <th>1</th>\n",
       "      <td>38.7</td>\n",
       "      <td>37.2</td>\n",
       "      <td>40.1</td>\n",
       "      <td>Alabama</td>\n",
       "      <td>1</td>\n",
       "    </tr>\n",
       "    <tr>\n",
       "      <th>2</th>\n",
       "      <td>33.9</td>\n",
       "      <td>33.4</td>\n",
       "      <td>34.4</td>\n",
       "      <td>Alaska</td>\n",
       "      <td>2</td>\n",
       "    </tr>\n",
       "    <tr>\n",
       "      <th>3</th>\n",
       "      <td>37.2</td>\n",
       "      <td>35.9</td>\n",
       "      <td>38.5</td>\n",
       "      <td>Arizona</td>\n",
       "      <td>4</td>\n",
       "    </tr>\n",
       "    <tr>\n",
       "      <th>4</th>\n",
       "      <td>37.9</td>\n",
       "      <td>36.5</td>\n",
       "      <td>39.3</td>\n",
       "      <td>Arkansas</td>\n",
       "      <td>5</td>\n",
       "    </tr>\n",
       "  </tbody>\n",
       "</table>\n",
       "</div>"
      ],
      "text/plain": [
       "   B01002_001E  B01002_002E  B01002_003E         name  state\n",
       "0         40.1         38.1         41.8  Puerto Rico     72\n",
       "1         38.7         37.2         40.1      Alabama      1\n",
       "2         33.9         33.4         34.4       Alaska      2\n",
       "3         37.2         35.9         38.5      Arizona      4\n",
       "4         37.9         36.5         39.3     Arkansas      5"
      ]
     },
     "execution_count": 16,
     "metadata": {},
     "output_type": "execute_result"
    }
   ],
   "source": [
    "raw_data.head()"
   ]
  },
  {
   "cell_type": "code",
   "execution_count": 17,
   "metadata": {},
   "outputs": [
    {
     "data": {
      "text/html": [
       "<div>\n",
       "<style scoped>\n",
       "    .dataframe tbody tr th:only-of-type {\n",
       "        vertical-align: middle;\n",
       "    }\n",
       "\n",
       "    .dataframe tbody tr th {\n",
       "        vertical-align: top;\n",
       "    }\n",
       "\n",
       "    .dataframe thead th {\n",
       "        text-align: right;\n",
       "    }\n",
       "</style>\n",
       "<table border=\"1\" class=\"dataframe\">\n",
       "  <thead>\n",
       "    <tr style=\"text-align: right;\">\n",
       "      <th></th>\n",
       "      <th>geoid</th>\n",
       "      <th>name</th>\n",
       "      <th>median</th>\n",
       "      <th>male</th>\n",
       "      <th>female</th>\n",
       "      <th>state</th>\n",
       "    </tr>\n",
       "  </thead>\n",
       "  <tbody>\n",
       "    <tr>\n",
       "      <th>0</th>\n",
       "      <td>72</td>\n",
       "      <td>Puerto Rico</td>\n",
       "      <td>40.1</td>\n",
       "      <td>38.1</td>\n",
       "      <td>41.8</td>\n",
       "      <td>72</td>\n",
       "    </tr>\n",
       "    <tr>\n",
       "      <th>1</th>\n",
       "      <td>1</td>\n",
       "      <td>Alabama</td>\n",
       "      <td>38.7</td>\n",
       "      <td>37.2</td>\n",
       "      <td>40.1</td>\n",
       "      <td>1</td>\n",
       "    </tr>\n",
       "    <tr>\n",
       "      <th>2</th>\n",
       "      <td>2</td>\n",
       "      <td>Alaska</td>\n",
       "      <td>33.9</td>\n",
       "      <td>33.4</td>\n",
       "      <td>34.4</td>\n",
       "      <td>2</td>\n",
       "    </tr>\n",
       "    <tr>\n",
       "      <th>3</th>\n",
       "      <td>4</td>\n",
       "      <td>Arizona</td>\n",
       "      <td>37.2</td>\n",
       "      <td>35.9</td>\n",
       "      <td>38.5</td>\n",
       "      <td>4</td>\n",
       "    </tr>\n",
       "    <tr>\n",
       "      <th>4</th>\n",
       "      <td>5</td>\n",
       "      <td>Arkansas</td>\n",
       "      <td>37.9</td>\n",
       "      <td>36.5</td>\n",
       "      <td>39.3</td>\n",
       "      <td>5</td>\n",
       "    </tr>\n",
       "  </tbody>\n",
       "</table>\n",
       "</div>"
      ],
      "text/plain": [
       "   geoid         name  median  male  female  state\n",
       "0     72  Puerto Rico    40.1  38.1    41.8     72\n",
       "1      1      Alabama    38.7  37.2    40.1      1\n",
       "2      2       Alaska    33.9  33.4    34.4      2\n",
       "3      4      Arizona    37.2  35.9    38.5      4\n",
       "4      5     Arkansas    37.9  36.5    39.3      5"
      ]
     },
     "execution_count": 17,
     "metadata": {},
     "output_type": "execute_result"
    }
   ],
   "source": [
    "processed_data.head()"
   ]
  }
 ],
 "metadata": {
  "kernelspec": {
   "display_name": "Python 3",
   "language": "python",
   "name": "python3"
  },
  "language_info": {
   "codemirror_mode": {
    "name": "ipython",
    "version": 3
   },
   "file_extension": ".py",
   "mimetype": "text/x-python",
   "name": "python",
   "nbconvert_exporter": "python",
   "pygments_lexer": "ipython3",
   "version": "3.7.3"
  }
 },
 "nbformat": 4,
 "nbformat_minor": 2
}
