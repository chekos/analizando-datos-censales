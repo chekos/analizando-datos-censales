{
 "cells": [
  {
   "cell_type": "markdown",
   "metadata": {},
   "source": [
    "# Project 1: Digital Divide\n",
    "### Data Analysis\n",
    "\n",
    "#### Based on PPIC's Just the Facts report [\"California's Digital Divide\"](https://www.ppic.org/publication/californias-digital-divide/)"
   ]
  },
  {
   "cell_type": "markdown",
   "metadata": {},
   "source": [
    "## Research Question(s):\n",
    "1. What share households with school-age children in X state have access to high-speed internet? \n",
    "2. Does this number vary across demographic groups? (in this case race/ethnicity)."
   ]
  },
  {
   "cell_type": "markdown",
   "metadata": {},
   "source": [
    "## Goal:\n",
    "* Use our `working-data dataset` (created in [Data_Prep notebook](00_DigitalDivide_Data_Prep.ipynb) notebook) to answer our research questions."
   ]
  },
  {
   "cell_type": "markdown",
   "metadata": {},
   "source": [
    "## Context:\n",
    "* Write yourself a description of the context: Include a description of the data (_data set contains X state's data for YYYY year_)"
   ]
  },
  {
   "cell_type": "markdown",
   "metadata": {},
   "source": [
    "***"
   ]
  },
  {
   "cell_type": "markdown",
   "metadata": {},
   "source": [
    "#### Step 1: Set up your working environment.\n",
    "\n",
    "Import all necessary libraries and create `Path`s to your data directories. This ensures reproducibility across file systems (windows uses `\\` instead of `/`)"
   ]
  },
  {
   "cell_type": "markdown",
   "metadata": {},
   "source": [
    "We need \n",
    "1. `pandas` to work with the data.\n",
    "2. `pathlib`, and more specifically its `Path` object, to work with paths. This will ensure our code works in both Windows (which uses `\\` in its file paths) and MacOS/Linux (which uses `/`).\n",
    "3. `datetime` - tip: There are version control systems for data but tagging your data files with the date is not a bad first step if you're getting started.\n",
    "4. `tree` - to display a directory's tree."
   ]
  },
  {
   "cell_type": "code",
   "execution_count": 1,
   "metadata": {},
   "outputs": [
    {
     "name": "stdout",
     "output_type": "stream",
     "text": [
      "01-May-19\n"
     ]
    }
   ],
   "source": [
    "# setting up working environment\n",
    "import pandas as pd\n",
    "from pathlib import Path\n",
    "from tools import tree\n",
    "from datetime import datetime as dt\n",
    "today = dt.today().strftime(\"%d-%b-%y\")\n",
    "\n",
    "print(today)"
   ]
  },
  {
   "cell_type": "code",
   "execution_count": 2,
   "metadata": {},
   "outputs": [],
   "source": [
    "# data folder and paths\n",
    "RAW_DATA_PATH = Path(\"../data/raw/\")\n",
    "INTERIM_DATA_PATH = Path(\"../data/interim/\")\n",
    "PROCESSED_DATA_PATH = Path(\"../data/processed/\")\n",
    "FINAL_DATA_PATH = Path(\"../data/final/\")"
   ]
  },
  {
   "cell_type": "code",
   "execution_count": 3,
   "metadata": {},
   "outputs": [
    {
     "name": "stdout",
     "output_type": "stream",
     "text": [
      "+ ../data/interim\n",
      "    + placeholder\n",
      "    + state_data-01-May-19.dta\n",
      "    + working_data-01-May-19.dta\n"
     ]
    }
   ],
   "source": [
    "tree(INTERIM_DATA_PATH)"
   ]
  },
  {
   "cell_type": "code",
   "execution_count": 4,
   "metadata": {},
   "outputs": [],
   "source": [
    "data = pd.read_stata(INTERIM_DATA_PATH / f'working_data-{today}.dta')"
   ]
  },
  {
   "cell_type": "code",
   "execution_count": 5,
   "metadata": {},
   "outputs": [
    {
     "data": {
      "text/plain": [
       "(44816, 18)"
      ]
     },
     "execution_count": 5,
     "metadata": {},
     "output_type": "execute_result"
    }
   ],
   "source": [
    "data.shape"
   ]
  },
  {
   "cell_type": "code",
   "execution_count": 6,
   "metadata": {},
   "outputs": [
    {
     "data": {
      "text/html": [
       "<div>\n",
       "<style scoped>\n",
       "    .dataframe tbody tr th:only-of-type {\n",
       "        vertical-align: middle;\n",
       "    }\n",
       "\n",
       "    .dataframe tbody tr th {\n",
       "        vertical-align: top;\n",
       "    }\n",
       "\n",
       "    .dataframe thead th {\n",
       "        text-align: right;\n",
       "    }\n",
       "</style>\n",
       "<table border=\"1\" class=\"dataframe\">\n",
       "  <thead>\n",
       "    <tr style=\"text-align: right;\">\n",
       "      <th></th>\n",
       "      <th>year</th>\n",
       "      <th>serial</th>\n",
       "      <th>hhwt</th>\n",
       "      <th>statefip</th>\n",
       "      <th>countyfip</th>\n",
       "      <th>gq</th>\n",
       "      <th>cinethh</th>\n",
       "      <th>cihispeed</th>\n",
       "      <th>pernum</th>\n",
       "      <th>perwt</th>\n",
       "      <th>relate</th>\n",
       "      <th>related</th>\n",
       "      <th>sex</th>\n",
       "      <th>age</th>\n",
       "      <th>race</th>\n",
       "      <th>raced</th>\n",
       "      <th>hispan</th>\n",
       "      <th>hispand</th>\n",
       "    </tr>\n",
       "  </thead>\n",
       "  <tbody>\n",
       "    <tr>\n",
       "      <th>0</th>\n",
       "      <td>2017</td>\n",
       "      <td>953662</td>\n",
       "      <td>57</td>\n",
       "      <td>ohio</td>\n",
       "      <td>0</td>\n",
       "      <td>households under 1970 definition</td>\n",
       "      <td>yes, with a subscription to an internet service</td>\n",
       "      <td>yes (cable modem, fiber optic or dsl service)</td>\n",
       "      <td>1</td>\n",
       "      <td>58</td>\n",
       "      <td>head/householder</td>\n",
       "      <td>head/householder</td>\n",
       "      <td>female</td>\n",
       "      <td>48</td>\n",
       "      <td>white</td>\n",
       "      <td>white</td>\n",
       "      <td>not hispanic</td>\n",
       "      <td>not hispanic</td>\n",
       "    </tr>\n",
       "    <tr>\n",
       "      <th>1</th>\n",
       "      <td>2017</td>\n",
       "      <td>953662</td>\n",
       "      <td>57</td>\n",
       "      <td>ohio</td>\n",
       "      <td>0</td>\n",
       "      <td>households under 1970 definition</td>\n",
       "      <td>yes, with a subscription to an internet service</td>\n",
       "      <td>yes (cable modem, fiber optic or dsl service)</td>\n",
       "      <td>2</td>\n",
       "      <td>62</td>\n",
       "      <td>child</td>\n",
       "      <td>child</td>\n",
       "      <td>male</td>\n",
       "      <td>20</td>\n",
       "      <td>white</td>\n",
       "      <td>white</td>\n",
       "      <td>not hispanic</td>\n",
       "      <td>not hispanic</td>\n",
       "    </tr>\n",
       "    <tr>\n",
       "      <th>2</th>\n",
       "      <td>2017</td>\n",
       "      <td>953662</td>\n",
       "      <td>57</td>\n",
       "      <td>ohio</td>\n",
       "      <td>0</td>\n",
       "      <td>households under 1970 definition</td>\n",
       "      <td>yes, with a subscription to an internet service</td>\n",
       "      <td>yes (cable modem, fiber optic or dsl service)</td>\n",
       "      <td>3</td>\n",
       "      <td>78</td>\n",
       "      <td>child</td>\n",
       "      <td>child</td>\n",
       "      <td>female</td>\n",
       "      <td>9</td>\n",
       "      <td>white</td>\n",
       "      <td>white</td>\n",
       "      <td>not hispanic</td>\n",
       "      <td>not hispanic</td>\n",
       "    </tr>\n",
       "    <tr>\n",
       "      <th>3</th>\n",
       "      <td>2017</td>\n",
       "      <td>953668</td>\n",
       "      <td>140</td>\n",
       "      <td>ohio</td>\n",
       "      <td>61</td>\n",
       "      <td>households under 1970 definition</td>\n",
       "      <td>yes, with a subscription to an internet service</td>\n",
       "      <td>yes (cable modem, fiber optic or dsl service)</td>\n",
       "      <td>1</td>\n",
       "      <td>140</td>\n",
       "      <td>head/householder</td>\n",
       "      <td>head/householder</td>\n",
       "      <td>male</td>\n",
       "      <td>28</td>\n",
       "      <td>black/african american/negro</td>\n",
       "      <td>black/african american/negro</td>\n",
       "      <td>not hispanic</td>\n",
       "      <td>not hispanic</td>\n",
       "    </tr>\n",
       "    <tr>\n",
       "      <th>4</th>\n",
       "      <td>2017</td>\n",
       "      <td>953668</td>\n",
       "      <td>140</td>\n",
       "      <td>ohio</td>\n",
       "      <td>61</td>\n",
       "      <td>households under 1970 definition</td>\n",
       "      <td>yes, with a subscription to an internet service</td>\n",
       "      <td>yes (cable modem, fiber optic or dsl service)</td>\n",
       "      <td>2</td>\n",
       "      <td>192</td>\n",
       "      <td>sibling</td>\n",
       "      <td>sibling</td>\n",
       "      <td>female</td>\n",
       "      <td>16</td>\n",
       "      <td>black/african american/negro</td>\n",
       "      <td>black/african american/negro</td>\n",
       "      <td>not hispanic</td>\n",
       "      <td>not hispanic</td>\n",
       "    </tr>\n",
       "  </tbody>\n",
       "</table>\n",
       "</div>"
      ],
      "text/plain": [
       "   year  serial  hhwt statefip  countyfip                                gq  \\\n",
       "0  2017  953662    57     ohio          0  households under 1970 definition   \n",
       "1  2017  953662    57     ohio          0  households under 1970 definition   \n",
       "2  2017  953662    57     ohio          0  households under 1970 definition   \n",
       "3  2017  953668   140     ohio         61  households under 1970 definition   \n",
       "4  2017  953668   140     ohio         61  households under 1970 definition   \n",
       "\n",
       "                                           cinethh  \\\n",
       "0  yes, with a subscription to an internet service   \n",
       "1  yes, with a subscription to an internet service   \n",
       "2  yes, with a subscription to an internet service   \n",
       "3  yes, with a subscription to an internet service   \n",
       "4  yes, with a subscription to an internet service   \n",
       "\n",
       "                                       cihispeed  pernum  perwt  \\\n",
       "0  yes (cable modem, fiber optic or dsl service)       1     58   \n",
       "1  yes (cable modem, fiber optic or dsl service)       2     62   \n",
       "2  yes (cable modem, fiber optic or dsl service)       3     78   \n",
       "3  yes (cable modem, fiber optic or dsl service)       1    140   \n",
       "4  yes (cable modem, fiber optic or dsl service)       2    192   \n",
       "\n",
       "             relate           related     sex age  \\\n",
       "0  head/householder  head/householder  female  48   \n",
       "1             child             child    male  20   \n",
       "2             child             child  female   9   \n",
       "3  head/householder  head/householder    male  28   \n",
       "4           sibling           sibling  female  16   \n",
       "\n",
       "                           race                         raced        hispan  \\\n",
       "0                         white                         white  not hispanic   \n",
       "1                         white                         white  not hispanic   \n",
       "2                         white                         white  not hispanic   \n",
       "3  black/african american/negro  black/african american/negro  not hispanic   \n",
       "4  black/african american/negro  black/african american/negro  not hispanic   \n",
       "\n",
       "        hispand  \n",
       "0  not hispanic  \n",
       "1  not hispanic  \n",
       "2  not hispanic  \n",
       "3  not hispanic  \n",
       "4  not hispanic  "
      ]
     },
     "execution_count": 6,
     "metadata": {},
     "output_type": "execute_result"
    }
   ],
   "source": [
    "data.head()"
   ]
  },
  {
   "cell_type": "code",
   "execution_count": 7,
   "metadata": {},
   "outputs": [
    {
     "name": "stdout",
     "output_type": "stream",
     "text": [
      "<class 'pandas.core.frame.DataFrame'>\n",
      "Int64Index: 44816 entries, 0 to 44815\n",
      "Data columns (total 18 columns):\n",
      "year         44816 non-null category\n",
      "serial       44816 non-null int32\n",
      "hhwt         44816 non-null int16\n",
      "statefip     44816 non-null category\n",
      "countyfip    44816 non-null int16\n",
      "gq           44816 non-null category\n",
      "cinethh      44816 non-null category\n",
      "cihispeed    44816 non-null category\n",
      "pernum       44816 non-null int8\n",
      "perwt        44816 non-null int16\n",
      "relate       44816 non-null category\n",
      "related      44816 non-null category\n",
      "sex          44816 non-null category\n",
      "age          44816 non-null category\n",
      "race         44816 non-null category\n",
      "raced        44816 non-null category\n",
      "hispan       44816 non-null category\n",
      "hispand      44816 non-null category\n",
      "dtypes: category(13), int16(3), int32(1), int8(1)\n",
      "memory usage: 1.4 MB\n"
     ]
    }
   ],
   "source": [
    "data.info()"
   ]
  },
  {
   "cell_type": "markdown",
   "metadata": {},
   "source": [
    "Our **unit of observation** is still a (weighted) person but we're interested in **household-level** data. \n",
    "\n",
    "From IPUMS docs:\n",
    ">HHWT indicates how many households in the U.S. population are represented by a given household in an IPUMS sample. <br><br>\n",
    ">It is generally a good idea to use HHWT when conducting a household-level analysis of any IPUMS sample. The use of HHWT is optional when analyzing one of the \"flat\" or unweighted IPUMS samples. Flat IPUMS samples include the 1% samples from 1850-1930, all samples from 1960, 1970, and 1980, the 1% unweighted samples from 1990 and 2000, the 10% 2010 sample, and any of the full count 100% census datasets. HHWT must be used to obtain nationally representative statistics for household-level analyses of any sample other than those.<br><br>\n",
    ">**Users should also be sure to select one person (e.g., PERNUM = 1) to represent the entire household.**"
   ]
  },
  {
   "cell_type": "markdown",
   "metadata": {},
   "source": [
    "***"
   ]
  },
  {
   "cell_type": "markdown",
   "metadata": {},
   "source": [
    "#### Step 2: Drop all observations were `pernum` doesn't equal 1"
   ]
  },
  {
   "cell_type": "code",
   "execution_count": 8,
   "metadata": {},
   "outputs": [],
   "source": [
    "mask_pernum = (data['pernum'] == 1)"
   ]
  },
  {
   "cell_type": "code",
   "execution_count": 9,
   "metadata": {},
   "outputs": [
    {
     "data": {
      "text/plain": [
       "(11109, 18)"
      ]
     },
     "execution_count": 9,
     "metadata": {},
     "output_type": "execute_result"
    }
   ],
   "source": [
    "data[mask_pernum].shape"
   ]
  },
  {
   "cell_type": "markdown",
   "metadata": {},
   "source": [
    "Save your data to an appropriately named variable."
   ]
  },
  {
   "cell_type": "code",
   "execution_count": 10,
   "metadata": {},
   "outputs": [],
   "source": [
    "state_households = data[mask_pernum].copy()"
   ]
  },
  {
   "cell_type": "markdown",
   "metadata": {},
   "source": [
    "***"
   ]
  },
  {
   "cell_type": "markdown",
   "metadata": {},
   "source": [
    "#### Step 3: Familiarize yourself with your variables of interest"
   ]
  },
  {
   "cell_type": "markdown",
   "metadata": {},
   "source": [
    "From IPUMS [docs](https://usa.ipums.org/usa-action/variables/CINETHH#description_section):\n",
    "\n",
    ">CINETHH reports whether any member of the household accesses the Internet. Here, \"access\" refers to whether or not someone in the household uses or connects to the Internet, regardless of whether or not they pay for the service."
   ]
  },
  {
   "cell_type": "code",
   "execution_count": 11,
   "metadata": {},
   "outputs": [
    {
     "data": {
      "text/plain": [
       "yes, with a subscription to an internet service                10442\n",
       "no internet access at this house, apartment, or mobile home      476\n",
       "yes, without a subscription to an internet service               191\n",
       "Name: cinethh, dtype: int64"
      ]
     },
     "execution_count": 11,
     "metadata": {},
     "output_type": "execute_result"
    }
   ],
   "source": [
    "# find the value_counts for your cinethh series\n",
    "state_households['cinethh'].value_counts()"
   ]
  },
  {
   "cell_type": "markdown",
   "metadata": {},
   "source": [
    "From IPUMS [docs](https://usa.ipums.org/usa-action/variables/CIHISPEED#description_section):\n",
    ">CIHISPEED reports whether the respondent or any member of their household subscribed to the Internet using broadband (high speed) Internet service such as cable, fiber optic, or DSL service. <br><br>\n",
    ">User Note: The ACS 2016 introduced changes to the questions regarding computer use and Internet access. See the comparability section and questionnaire text for more information. Additional information provided by the Census Bureau regarding these question alterations are available in the report: ACS Content Test Shows Need to Update Terminology"
   ]
  },
  {
   "cell_type": "code",
   "execution_count": 12,
   "metadata": {},
   "outputs": [
    {
     "data": {
      "text/plain": [
       "yes (cable modem, fiber optic or dsl service)    8920\n",
       "no                                               1522\n",
       "n/a (gq)                                          667\n",
       "Name: cihispeed, dtype: int64"
      ]
     },
     "execution_count": 12,
     "metadata": {},
     "output_type": "execute_result"
    }
   ],
   "source": [
    "# find the value_counts for your cihispeed series\n",
    "state_households['cihispeed'].value_counts()"
   ]
  },
  {
   "cell_type": "markdown",
   "metadata": {},
   "source": [
    "_quick tip_ `.value_counts()` _has a_ `normalize` _parameter:_"
   ]
  },
  {
   "cell_type": "code",
   "execution_count": 13,
   "metadata": {},
   "outputs": [
    {
     "data": {
      "text/plain": [
       "\u001b[0;31mSignature:\u001b[0m\n",
       "\u001b[0mpd\u001b[0m\u001b[0;34m.\u001b[0m\u001b[0mSeries\u001b[0m\u001b[0;34m.\u001b[0m\u001b[0mvalue_counts\u001b[0m\u001b[0;34m(\u001b[0m\u001b[0;34m\u001b[0m\n",
       "\u001b[0;34m\u001b[0m    \u001b[0mself\u001b[0m\u001b[0;34m,\u001b[0m\u001b[0;34m\u001b[0m\n",
       "\u001b[0;34m\u001b[0m    \u001b[0mnormalize\u001b[0m\u001b[0;34m=\u001b[0m\u001b[0;32mFalse\u001b[0m\u001b[0;34m,\u001b[0m\u001b[0;34m\u001b[0m\n",
       "\u001b[0;34m\u001b[0m    \u001b[0msort\u001b[0m\u001b[0;34m=\u001b[0m\u001b[0;32mTrue\u001b[0m\u001b[0;34m,\u001b[0m\u001b[0;34m\u001b[0m\n",
       "\u001b[0;34m\u001b[0m    \u001b[0mascending\u001b[0m\u001b[0;34m=\u001b[0m\u001b[0;32mFalse\u001b[0m\u001b[0;34m,\u001b[0m\u001b[0;34m\u001b[0m\n",
       "\u001b[0;34m\u001b[0m    \u001b[0mbins\u001b[0m\u001b[0;34m=\u001b[0m\u001b[0;32mNone\u001b[0m\u001b[0;34m,\u001b[0m\u001b[0;34m\u001b[0m\n",
       "\u001b[0;34m\u001b[0m    \u001b[0mdropna\u001b[0m\u001b[0;34m=\u001b[0m\u001b[0;32mTrue\u001b[0m\u001b[0;34m,\u001b[0m\u001b[0;34m\u001b[0m\n",
       "\u001b[0;34m\u001b[0m\u001b[0;34m)\u001b[0m\u001b[0;34m\u001b[0m\u001b[0;34m\u001b[0m\u001b[0m\n",
       "\u001b[0;31mDocstring:\u001b[0m\n",
       "Return a Series containing counts of unique values.\n",
       "\n",
       "The resulting object will be in descending order so that the\n",
       "first element is the most frequently-occurring element.\n",
       "Excludes NA values by default.\n",
       "\n",
       "Parameters\n",
       "----------\n",
       "normalize : boolean, default False\n",
       "    If True then the object returned will contain the relative\n",
       "    frequencies of the unique values.\n",
       "sort : boolean, default True\n",
       "    Sort by values.\n",
       "ascending : boolean, default False\n",
       "    Sort in ascending order.\n",
       "bins : integer, optional\n",
       "    Rather than count values, group them into half-open bins,\n",
       "    a convenience for ``pd.cut``, only works with numeric data.\n",
       "dropna : boolean, default True\n",
       "    Don't include counts of NaN.\n",
       "\n",
       "Returns\n",
       "-------\n",
       "counts : Series\n",
       "\n",
       "See Also\n",
       "--------\n",
       "Series.count: Number of non-NA elements in a Series.\n",
       "DataFrame.count: Number of non-NA elements in a DataFrame.\n",
       "\n",
       "Examples\n",
       "--------\n",
       ">>> index = pd.Index([3, 1, 2, 3, 4, np.nan])\n",
       ">>> index.value_counts()\n",
       "3.0    2\n",
       "4.0    1\n",
       "2.0    1\n",
       "1.0    1\n",
       "dtype: int64\n",
       "\n",
       "With `normalize` set to `True`, returns the relative frequency by\n",
       "dividing all values by the sum of values.\n",
       "\n",
       ">>> s = pd.Series([3, 1, 2, 3, 4, np.nan])\n",
       ">>> s.value_counts(normalize=True)\n",
       "3.0    0.4\n",
       "4.0    0.2\n",
       "2.0    0.2\n",
       "1.0    0.2\n",
       "dtype: float64\n",
       "\n",
       "**bins**\n",
       "\n",
       "Bins can be useful for going from a continuous variable to a\n",
       "categorical variable; instead of counting unique\n",
       "apparitions of values, divide the index in the specified\n",
       "number of half-open bins.\n",
       "\n",
       ">>> s.value_counts(bins=3)\n",
       "(2.0, 3.0]      2\n",
       "(0.996, 2.0]    2\n",
       "(3.0, 4.0]      1\n",
       "dtype: int64\n",
       "\n",
       "**dropna**\n",
       "\n",
       "With `dropna` set to `False` we can also see NaN index values.\n",
       "\n",
       ">>> s.value_counts(dropna=False)\n",
       "3.0    2\n",
       "NaN    1\n",
       "4.0    1\n",
       "2.0    1\n",
       "1.0    1\n",
       "dtype: int64\n",
       "\u001b[0;31mFile:\u001b[0m      /anaconda3/envs/pycon/lib/python3.7/site-packages/pandas/core/base.py\n",
       "\u001b[0;31mType:\u001b[0m      function\n"
      ]
     },
     "metadata": {},
     "output_type": "display_data"
    }
   ],
   "source": [
    "pd.Series.value_counts?"
   ]
  },
  {
   "cell_type": "code",
   "execution_count": 19,
   "metadata": {},
   "outputs": [
    {
     "data": {
      "text/plain": [
       "yes, with a subscription to an internet service                0.939959\n",
       "no internet access at this house, apartment, or mobile home    0.042848\n",
       "yes, without a subscription to an internet service             0.017193\n",
       "Name: cinethh, dtype: float64"
      ]
     },
     "execution_count": 19,
     "metadata": {},
     "output_type": "execute_result"
    }
   ],
   "source": [
    "# try it on your cinethh series\n",
    "state_households['cinethh'].value_counts(normalize = True)"
   ]
  },
  {
   "cell_type": "code",
   "execution_count": 20,
   "metadata": {},
   "outputs": [
    {
     "data": {
      "text/plain": [
       "yes (cable modem, fiber optic or dsl service)    0.802953\n",
       "no                                               0.137006\n",
       "n/a (gq)                                         0.060041\n",
       "Name: cihispeed, dtype: float64"
      ]
     },
     "execution_count": 20,
     "metadata": {},
     "output_type": "execute_result"
    }
   ],
   "source": [
    "# on cihispeed \n",
    "state_households['cihispeed'].value_counts(normalize = True)"
   ]
  },
  {
   "cell_type": "markdown",
   "metadata": {},
   "source": [
    "***"
   ]
  },
  {
   "cell_type": "markdown",
   "metadata": {},
   "source": [
    "This would be the end of our analysis if we weren't working with **weighted** data. **Weighted** data means each of our observations represent more than one person or household.\n",
    "\n",
    "`perwt` = \"Person's weight\"\n",
    "\n",
    "`hhwt` = \"Household's weight\""
   ]
  },
  {
   "cell_type": "markdown",
   "metadata": {},
   "source": [
    "`.value_counts(normalize=True)` counts the number of **observations** for each of a series' values and then divides it by the total count. If each of our observations was 1 person/household, we would have the answer already. "
   ]
  },
  {
   "cell_type": "markdown",
   "metadata": {},
   "source": [
    "What we need to do is **aggregate**."
   ]
  },
  {
   "cell_type": "markdown",
   "metadata": {},
   "source": [
    "***"
   ]
  },
  {
   "cell_type": "markdown",
   "metadata": {},
   "source": [
    "#### Step 4: Grouping and aggregating data\n",
    "\n",
    "The mechanics are kind of the same: \n",
    "1. Count the number of observations each that match each of the values in a series.\n",
    "2. Add up **not the number of observations** but the weight of each observation.\n",
    "3. Divide by the total."
   ]
  },
  {
   "cell_type": "markdown",
   "metadata": {},
   "source": [
    "#### Step 4.1: Group your data by their corresponding values"
   ]
  },
  {
   "cell_type": "code",
   "execution_count": 14,
   "metadata": {},
   "outputs": [
    {
     "data": {
      "text/plain": [
       "<pandas.core.groupby.generic.DataFrameGroupBy object at 0x110a038d0>"
      ]
     },
     "execution_count": 14,
     "metadata": {},
     "output_type": "execute_result"
    }
   ],
   "source": [
    "state_households.groupby(\"cihispeed\")"
   ]
  },
  {
   "cell_type": "markdown",
   "metadata": {},
   "source": [
    "From the [docs](http://pandas.pydata.org/pandas-docs/stable/user_guide/groupby.html):\n",
    "\n",
    ">A groupby operation involves some combination of splitting the\n",
    "object, __applying a function__, and combining the results. This can be\n",
    "used to group large amounts of data and compute operations on these\n",
    "groups."
   ]
  },
  {
   "cell_type": "markdown",
   "metadata": {},
   "source": [
    "We're missing the **applying a function** part of it.\n",
    "\n",
    "Try the following:\n",
    "```python\n",
    "state_households.groupby(\"countyfip\").sum()\n",
    "```\n",
    "\n",
    "you can pass _almost_ any function to this. \n",
    "\n",
    "Try `.mean()`, `.max()`, `.min()`, `.std()`."
   ]
  },
  {
   "cell_type": "code",
   "execution_count": 15,
   "metadata": {},
   "outputs": [
    {
     "data": {
      "text/html": [
       "<div>\n",
       "<style scoped>\n",
       "    .dataframe tbody tr th:only-of-type {\n",
       "        vertical-align: middle;\n",
       "    }\n",
       "\n",
       "    .dataframe tbody tr th {\n",
       "        vertical-align: top;\n",
       "    }\n",
       "\n",
       "    .dataframe thead th {\n",
       "        text-align: right;\n",
       "    }\n",
       "</style>\n",
       "<table border=\"1\" class=\"dataframe\">\n",
       "  <thead>\n",
       "    <tr style=\"text-align: right;\">\n",
       "      <th></th>\n",
       "      <th>serial</th>\n",
       "      <th>hhwt</th>\n",
       "      <th>pernum</th>\n",
       "      <th>perwt</th>\n",
       "    </tr>\n",
       "    <tr>\n",
       "      <th>countyfip</th>\n",
       "      <th></th>\n",
       "      <th></th>\n",
       "      <th></th>\n",
       "      <th></th>\n",
       "    </tr>\n",
       "  </thead>\n",
       "  <tbody>\n",
       "    <tr>\n",
       "      <th>0</th>\n",
       "      <td>4.650504e+09</td>\n",
       "      <td>446164.0</td>\n",
       "      <td>4755.0</td>\n",
       "      <td>446156.0</td>\n",
       "    </tr>\n",
       "    <tr>\n",
       "      <th>3</th>\n",
       "      <td>1.207007e+08</td>\n",
       "      <td>10555.0</td>\n",
       "      <td>123.0</td>\n",
       "      <td>10557.0</td>\n",
       "    </tr>\n",
       "    <tr>\n",
       "      <th>7</th>\n",
       "      <td>9.668951e+07</td>\n",
       "      <td>9868.0</td>\n",
       "      <td>99.0</td>\n",
       "      <td>9871.0</td>\n",
       "    </tr>\n",
       "    <tr>\n",
       "      <th>17</th>\n",
       "      <td>3.051483e+08</td>\n",
       "      <td>37891.0</td>\n",
       "      <td>312.0</td>\n",
       "      <td>37893.0</td>\n",
       "    </tr>\n",
       "    <tr>\n",
       "      <th>23</th>\n",
       "      <td>1.464338e+08</td>\n",
       "      <td>13809.0</td>\n",
       "      <td>150.0</td>\n",
       "      <td>13800.0</td>\n",
       "    </tr>\n",
       "    <tr>\n",
       "      <th>29</th>\n",
       "      <td>8.409909e+07</td>\n",
       "      <td>9099.0</td>\n",
       "      <td>86.0</td>\n",
       "      <td>9106.0</td>\n",
       "    </tr>\n",
       "    <tr>\n",
       "      <th>35</th>\n",
       "      <td>1.122669e+09</td>\n",
       "      <td>117782.0</td>\n",
       "      <td>1148.0</td>\n",
       "      <td>117759.0</td>\n",
       "    </tr>\n",
       "    <tr>\n",
       "      <th>41</th>\n",
       "      <td>2.369908e+08</td>\n",
       "      <td>23567.0</td>\n",
       "      <td>242.0</td>\n",
       "      <td>23568.0</td>\n",
       "    </tr>\n",
       "    <tr>\n",
       "      <th>45</th>\n",
       "      <td>1.693069e+08</td>\n",
       "      <td>17631.0</td>\n",
       "      <td>173.0</td>\n",
       "      <td>17622.0</td>\n",
       "    </tr>\n",
       "    <tr>\n",
       "      <th>49</th>\n",
       "      <td>1.015987e+09</td>\n",
       "      <td>132324.0</td>\n",
       "      <td>1038.0</td>\n",
       "      <td>132311.0</td>\n",
       "    </tr>\n",
       "    <tr>\n",
       "      <th>57</th>\n",
       "      <td>1.241778e+08</td>\n",
       "      <td>15170.0</td>\n",
       "      <td>127.0</td>\n",
       "      <td>15162.0</td>\n",
       "    </tr>\n",
       "    <tr>\n",
       "      <th>61</th>\n",
       "      <td>6.505717e+08</td>\n",
       "      <td>77647.0</td>\n",
       "      <td>665.0</td>\n",
       "      <td>77654.0</td>\n",
       "    </tr>\n",
       "    <tr>\n",
       "      <th>89</th>\n",
       "      <td>1.631929e+08</td>\n",
       "      <td>18966.0</td>\n",
       "      <td>167.0</td>\n",
       "      <td>18972.0</td>\n",
       "    </tr>\n",
       "    <tr>\n",
       "      <th>93</th>\n",
       "      <td>2.521173e+08</td>\n",
       "      <td>31271.0</td>\n",
       "      <td>258.0</td>\n",
       "      <td>31269.0</td>\n",
       "    </tr>\n",
       "    <tr>\n",
       "      <th>103</th>\n",
       "      <td>1.788927e+08</td>\n",
       "      <td>18136.0</td>\n",
       "      <td>183.0</td>\n",
       "      <td>18137.0</td>\n",
       "    </tr>\n",
       "    <tr>\n",
       "      <th>109</th>\n",
       "      <td>9.972736e+07</td>\n",
       "      <td>9352.0</td>\n",
       "      <td>102.0</td>\n",
       "      <td>9346.0</td>\n",
       "    </tr>\n",
       "    <tr>\n",
       "      <th>113</th>\n",
       "      <td>4.446886e+08</td>\n",
       "      <td>53118.0</td>\n",
       "      <td>455.0</td>\n",
       "      <td>53141.0</td>\n",
       "    </tr>\n",
       "    <tr>\n",
       "      <th>133</th>\n",
       "      <td>1.426664e+08</td>\n",
       "      <td>15673.0</td>\n",
       "      <td>146.0</td>\n",
       "      <td>15679.0</td>\n",
       "    </tr>\n",
       "    <tr>\n",
       "      <th>139</th>\n",
       "      <td>9.583341e+07</td>\n",
       "      <td>11236.0</td>\n",
       "      <td>98.0</td>\n",
       "      <td>11233.0</td>\n",
       "    </tr>\n",
       "    <tr>\n",
       "      <th>153</th>\n",
       "      <td>4.287851e+08</td>\n",
       "      <td>48930.0</td>\n",
       "      <td>439.0</td>\n",
       "      <td>48916.0</td>\n",
       "    </tr>\n",
       "    <tr>\n",
       "      <th>165</th>\n",
       "      <td>2.131444e+08</td>\n",
       "      <td>27706.0</td>\n",
       "      <td>218.0</td>\n",
       "      <td>27704.0</td>\n",
       "    </tr>\n",
       "    <tr>\n",
       "      <th>169</th>\n",
       "      <td>1.221717e+08</td>\n",
       "      <td>10623.0</td>\n",
       "      <td>125.0</td>\n",
       "      <td>10626.0</td>\n",
       "    </tr>\n",
       "  </tbody>\n",
       "</table>\n",
       "</div>"
      ],
      "text/plain": [
       "                 serial      hhwt  pernum     perwt\n",
       "countyfip                                          \n",
       "0          4.650504e+09  446164.0  4755.0  446156.0\n",
       "3          1.207007e+08   10555.0   123.0   10557.0\n",
       "7          9.668951e+07    9868.0    99.0    9871.0\n",
       "17         3.051483e+08   37891.0   312.0   37893.0\n",
       "23         1.464338e+08   13809.0   150.0   13800.0\n",
       "29         8.409909e+07    9099.0    86.0    9106.0\n",
       "35         1.122669e+09  117782.0  1148.0  117759.0\n",
       "41         2.369908e+08   23567.0   242.0   23568.0\n",
       "45         1.693069e+08   17631.0   173.0   17622.0\n",
       "49         1.015987e+09  132324.0  1038.0  132311.0\n",
       "57         1.241778e+08   15170.0   127.0   15162.0\n",
       "61         6.505717e+08   77647.0   665.0   77654.0\n",
       "89         1.631929e+08   18966.0   167.0   18972.0\n",
       "93         2.521173e+08   31271.0   258.0   31269.0\n",
       "103        1.788927e+08   18136.0   183.0   18137.0\n",
       "109        9.972736e+07    9352.0   102.0    9346.0\n",
       "113        4.446886e+08   53118.0   455.0   53141.0\n",
       "133        1.426664e+08   15673.0   146.0   15679.0\n",
       "139        9.583341e+07   11236.0    98.0   11233.0\n",
       "153        4.287851e+08   48930.0   439.0   48916.0\n",
       "165        2.131444e+08   27706.0   218.0   27704.0\n",
       "169        1.221717e+08   10623.0   125.0   10626.0"
      ]
     },
     "execution_count": 15,
     "metadata": {},
     "output_type": "execute_result"
    }
   ],
   "source": [
    "state_households.groupby(\"countyfip\").sum()"
   ]
  },
  {
   "cell_type": "markdown",
   "metadata": {},
   "source": [
    "You can select columns just like you would any other regular dataframe."
   ]
  },
  {
   "cell_type": "code",
   "execution_count": 16,
   "metadata": {},
   "outputs": [
    {
     "data": {
      "text/plain": [
       "countyfip\n",
       "0      446164.0\n",
       "3       10555.0\n",
       "7        9868.0\n",
       "17      37891.0\n",
       "23      13809.0\n",
       "29       9099.0\n",
       "35     117782.0\n",
       "41      23567.0\n",
       "45      17631.0\n",
       "49     132324.0\n",
       "57      15170.0\n",
       "61      77647.0\n",
       "89      18966.0\n",
       "93      31271.0\n",
       "103     18136.0\n",
       "109      9352.0\n",
       "113     53118.0\n",
       "133     15673.0\n",
       "139     11236.0\n",
       "153     48930.0\n",
       "165     27706.0\n",
       "169     10623.0\n",
       "Name: hhwt, dtype: float64"
      ]
     },
     "execution_count": 16,
     "metadata": {},
     "output_type": "execute_result"
    }
   ],
   "source": [
    "state_households.groupby(\"countyfip\")['hhwt'].sum()"
   ]
  },
  {
   "cell_type": "markdown",
   "metadata": {},
   "source": [
    "***"
   ]
  },
  {
   "cell_type": "code",
   "execution_count": 18,
   "metadata": {},
   "outputs": [
    {
     "name": "stdout",
     "output_type": "stream",
     "text": [
      "\n",
      "We can see now 167,114.0 households in ohio have access to high-speed internet. But, out of how many?\n",
      "\n",
      "To make this easier to follow, let's save our results to a variable:\n",
      "\n"
     ]
    }
   ],
   "source": [
    "n_households = state_households.groupby(\"cihispeed\")['hhwt'].sum()[2]\n",
    "_state = state_households['statefip'].unique()[0]\n",
    "print(f\"\"\"\n",
    "We can see now {n_households:,} households in {_state} have access to high-speed internet. But, out of how many?\n",
    "\n",
    "To make this easier to follow, let's save our results to a variable:\n",
    "\"\"\")"
   ]
  },
  {
   "cell_type": "code",
   "execution_count": 21,
   "metadata": {},
   "outputs": [
    {
     "data": {
      "text/plain": [
       "cihispeed\n",
       "n/a (gq)                                          79136.0\n",
       "yes (cable modem, fiber optic or dsl service)    910268.0\n",
       "no                                               167114.0\n",
       "Name: hhwt, dtype: float64"
      ]
     },
     "execution_count": 21,
     "metadata": {},
     "output_type": "execute_result"
    }
   ],
   "source": [
    "households_with_highspeed_access = state_households.groupby(\"cihispeed\")[\"hhwt\"].sum()\n",
    "\n",
    "households_with_highspeed_access"
   ]
  },
  {
   "cell_type": "markdown",
   "metadata": {},
   "source": [
    "This looks like any regular `pandas.Series`, how do we find the total `.sum()` of a series elements?"
   ]
  },
  {
   "cell_type": "markdown",
   "metadata": {},
   "source": [
    "![math](../../static/math.png)"
   ]
  },
  {
   "cell_type": "code",
   "execution_count": 22,
   "metadata": {},
   "outputs": [
    {
     "data": {
      "text/plain": [
       "1156518.0"
      ]
     },
     "execution_count": 22,
     "metadata": {},
     "output_type": "execute_result"
    }
   ],
   "source": [
    "households_with_highspeed_access.sum()"
   ]
  },
  {
   "cell_type": "markdown",
   "metadata": {},
   "source": [
    "That's our denominator! \n",
    "\n",
    "![nice](../../static/nooice.gif)"
   ]
  },
  {
   "cell_type": "markdown",
   "metadata": {},
   "source": [
    "***"
   ]
  },
  {
   "cell_type": "markdown",
   "metadata": {},
   "source": [
    "When you _apply_ and operation to a `pandas.Series` it _maps_ to each of its elements.\n",
    "\n",
    "Try the following:\n",
    "```python\n",
    "households_with_highspeed_access * 1_000_000\n",
    "```\n",
    "\n",
    "```python\n",
    "households_with_highspeed_access + 1_000_000\n",
    "```\n",
    "\n",
    "```python\n",
    "households_with_highspeed_access / 1_000_000\n",
    "```"
   ]
  },
  {
   "cell_type": "code",
   "execution_count": 23,
   "metadata": {},
   "outputs": [
    {
     "data": {
      "text/plain": [
       "cihispeed\n",
       "n/a (gq)                                         7.913600e+10\n",
       "yes (cable modem, fiber optic or dsl service)    9.102680e+11\n",
       "no                                               1.671140e+11\n",
       "Name: hhwt, dtype: float64"
      ]
     },
     "execution_count": 23,
     "metadata": {},
     "output_type": "execute_result"
    }
   ],
   "source": [
    "households_with_highspeed_access * 1_000_000"
   ]
  },
  {
   "cell_type": "code",
   "execution_count": 24,
   "metadata": {},
   "outputs": [
    {
     "data": {
      "text/plain": [
       "cihispeed\n",
       "n/a (gq)                                         1079136.0\n",
       "yes (cable modem, fiber optic or dsl service)    1910268.0\n",
       "no                                               1167114.0\n",
       "Name: hhwt, dtype: float64"
      ]
     },
     "execution_count": 24,
     "metadata": {},
     "output_type": "execute_result"
    }
   ],
   "source": [
    "households_with_highspeed_access + 1_000_000"
   ]
  },
  {
   "cell_type": "code",
   "execution_count": 25,
   "metadata": {},
   "outputs": [
    {
     "data": {
      "text/plain": [
       "cihispeed\n",
       "n/a (gq)                                         0.079136\n",
       "yes (cable modem, fiber optic or dsl service)    0.910268\n",
       "no                                               0.167114\n",
       "Name: hhwt, dtype: float64"
      ]
     },
     "execution_count": 25,
     "metadata": {},
     "output_type": "execute_result"
    }
   ],
   "source": [
    "households_with_highspeed_access / 1_000_000"
   ]
  },
  {
   "cell_type": "markdown",
   "metadata": {},
   "source": [
    "Now that you know the denominator of our equation (how many households total in X state), how would you find each of the 3 values in your `households_with_highspeed_access` share of the total?"
   ]
  },
  {
   "cell_type": "code",
   "execution_count": 26,
   "metadata": {},
   "outputs": [
    {
     "data": {
      "text/plain": [
       "cihispeed\n",
       "n/a (gq)                                         0.068426\n",
       "yes (cable modem, fiber optic or dsl service)    0.787076\n",
       "no                                               0.144498\n",
       "Name: hhwt, dtype: float64"
      ]
     },
     "execution_count": 26,
     "metadata": {},
     "output_type": "execute_result"
    }
   ],
   "source": [
    "households_with_highspeed_access / households_with_highspeed_access.sum()"
   ]
  },
  {
   "cell_type": "markdown",
   "metadata": {},
   "source": [
    "***\n",
    "***"
   ]
  },
  {
   "cell_type": "markdown",
   "metadata": {},
   "source": [
    "### Part 2 of analysis: Creating derived variables"
   ]
  },
  {
   "cell_type": "markdown",
   "metadata": {},
   "source": [
    "Now that you have answered **Research Question 1**, we can move on to Q2: \n",
    ">_Does this number vary across demographic groups? (in this case race/ethnicity)._"
   ]
  },
  {
   "cell_type": "markdown",
   "metadata": {},
   "source": [
    "pandas `.groupby()` function can take a list of columns by which to group by \n",
    "\n",
    "Try the following:\n",
    "```python\n",
    "state_households.groupby(['race', 'cihispeed'])[['hhwt']].sum()\n",
    "```\n",
    "\n",
    "_Notice that I'm passing_ `[['hhwt']]` _(a 1-element list) and not just_ `['hhwt']` _try both yourself and let's discuss what's the difference._"
   ]
  },
  {
   "cell_type": "code",
   "execution_count": 27,
   "metadata": {},
   "outputs": [
    {
     "data": {
      "text/html": [
       "<div>\n",
       "<style scoped>\n",
       "    .dataframe tbody tr th:only-of-type {\n",
       "        vertical-align: middle;\n",
       "    }\n",
       "\n",
       "    .dataframe tbody tr th {\n",
       "        vertical-align: top;\n",
       "    }\n",
       "\n",
       "    .dataframe thead th {\n",
       "        text-align: right;\n",
       "    }\n",
       "</style>\n",
       "<table border=\"1\" class=\"dataframe\">\n",
       "  <thead>\n",
       "    <tr style=\"text-align: right;\">\n",
       "      <th></th>\n",
       "      <th></th>\n",
       "      <th>hhwt</th>\n",
       "    </tr>\n",
       "    <tr>\n",
       "      <th>race</th>\n",
       "      <th>cihispeed</th>\n",
       "      <th></th>\n",
       "    </tr>\n",
       "  </thead>\n",
       "  <tbody>\n",
       "    <tr>\n",
       "      <th rowspan=\"3\" valign=\"top\">white</th>\n",
       "      <th>n/a (gq)</th>\n",
       "      <td>57742.0</td>\n",
       "    </tr>\n",
       "    <tr>\n",
       "      <th>yes (cable modem, fiber optic or dsl service)</th>\n",
       "      <td>742182.0</td>\n",
       "    </tr>\n",
       "    <tr>\n",
       "      <th>no</th>\n",
       "      <td>124811.0</td>\n",
       "    </tr>\n",
       "    <tr>\n",
       "      <th rowspan=\"3\" valign=\"top\">black/african american/negro</th>\n",
       "      <th>n/a (gq)</th>\n",
       "      <td>15443.0</td>\n",
       "    </tr>\n",
       "    <tr>\n",
       "      <th>yes (cable modem, fiber optic or dsl service)</th>\n",
       "      <td>114753.0</td>\n",
       "    </tr>\n",
       "    <tr>\n",
       "      <th>no</th>\n",
       "      <td>31265.0</td>\n",
       "    </tr>\n",
       "    <tr>\n",
       "      <th rowspan=\"3\" valign=\"top\">american indian or alaska native</th>\n",
       "      <th>n/a (gq)</th>\n",
       "      <td>60.0</td>\n",
       "    </tr>\n",
       "    <tr>\n",
       "      <th>yes (cable modem, fiber optic or dsl service)</th>\n",
       "      <td>1842.0</td>\n",
       "    </tr>\n",
       "    <tr>\n",
       "      <th>no</th>\n",
       "      <td>529.0</td>\n",
       "    </tr>\n",
       "    <tr>\n",
       "      <th rowspan=\"3\" valign=\"top\">chinese</th>\n",
       "      <th>n/a (gq)</th>\n",
       "      <td>117.0</td>\n",
       "    </tr>\n",
       "    <tr>\n",
       "      <th>yes (cable modem, fiber optic or dsl service)</th>\n",
       "      <td>3233.0</td>\n",
       "    </tr>\n",
       "    <tr>\n",
       "      <th>no</th>\n",
       "      <td>553.0</td>\n",
       "    </tr>\n",
       "    <tr>\n",
       "      <th rowspan=\"3\" valign=\"top\">japanese</th>\n",
       "      <th>n/a (gq)</th>\n",
       "      <td>NaN</td>\n",
       "    </tr>\n",
       "    <tr>\n",
       "      <th>yes (cable modem, fiber optic or dsl service)</th>\n",
       "      <td>1069.0</td>\n",
       "    </tr>\n",
       "    <tr>\n",
       "      <th>no</th>\n",
       "      <td>NaN</td>\n",
       "    </tr>\n",
       "    <tr>\n",
       "      <th rowspan=\"3\" valign=\"top\">other asian or pacific islander</th>\n",
       "      <th>n/a (gq)</th>\n",
       "      <td>1055.0</td>\n",
       "    </tr>\n",
       "    <tr>\n",
       "      <th>yes (cable modem, fiber optic or dsl service)</th>\n",
       "      <td>20233.0</td>\n",
       "    </tr>\n",
       "    <tr>\n",
       "      <th>no</th>\n",
       "      <td>1619.0</td>\n",
       "    </tr>\n",
       "    <tr>\n",
       "      <th rowspan=\"3\" valign=\"top\">other race, nec</th>\n",
       "      <th>n/a (gq)</th>\n",
       "      <td>2064.0</td>\n",
       "    </tr>\n",
       "    <tr>\n",
       "      <th>yes (cable modem, fiber optic or dsl service)</th>\n",
       "      <td>8790.0</td>\n",
       "    </tr>\n",
       "    <tr>\n",
       "      <th>no</th>\n",
       "      <td>4432.0</td>\n",
       "    </tr>\n",
       "    <tr>\n",
       "      <th rowspan=\"3\" valign=\"top\">two major races</th>\n",
       "      <th>n/a (gq)</th>\n",
       "      <td>2576.0</td>\n",
       "    </tr>\n",
       "    <tr>\n",
       "      <th>yes (cable modem, fiber optic or dsl service)</th>\n",
       "      <td>15299.0</td>\n",
       "    </tr>\n",
       "    <tr>\n",
       "      <th>no</th>\n",
       "      <td>3331.0</td>\n",
       "    </tr>\n",
       "    <tr>\n",
       "      <th rowspan=\"3\" valign=\"top\">three or more major races</th>\n",
       "      <th>n/a (gq)</th>\n",
       "      <td>79.0</td>\n",
       "    </tr>\n",
       "    <tr>\n",
       "      <th>yes (cable modem, fiber optic or dsl service)</th>\n",
       "      <td>2867.0</td>\n",
       "    </tr>\n",
       "    <tr>\n",
       "      <th>no</th>\n",
       "      <td>574.0</td>\n",
       "    </tr>\n",
       "  </tbody>\n",
       "</table>\n",
       "</div>"
      ],
      "text/plain": [
       "                                                                                    hhwt\n",
       "race                             cihispeed                                              \n",
       "white                            n/a (gq)                                        57742.0\n",
       "                                 yes (cable modem, fiber optic or dsl service)  742182.0\n",
       "                                 no                                             124811.0\n",
       "black/african american/negro     n/a (gq)                                        15443.0\n",
       "                                 yes (cable modem, fiber optic or dsl service)  114753.0\n",
       "                                 no                                              31265.0\n",
       "american indian or alaska native n/a (gq)                                           60.0\n",
       "                                 yes (cable modem, fiber optic or dsl service)    1842.0\n",
       "                                 no                                                529.0\n",
       "chinese                          n/a (gq)                                          117.0\n",
       "                                 yes (cable modem, fiber optic or dsl service)    3233.0\n",
       "                                 no                                                553.0\n",
       "japanese                         n/a (gq)                                            NaN\n",
       "                                 yes (cable modem, fiber optic or dsl service)    1069.0\n",
       "                                 no                                                  NaN\n",
       "other asian or pacific islander  n/a (gq)                                         1055.0\n",
       "                                 yes (cable modem, fiber optic or dsl service)   20233.0\n",
       "                                 no                                               1619.0\n",
       "other race, nec                  n/a (gq)                                         2064.0\n",
       "                                 yes (cable modem, fiber optic or dsl service)    8790.0\n",
       "                                 no                                               4432.0\n",
       "two major races                  n/a (gq)                                         2576.0\n",
       "                                 yes (cable modem, fiber optic or dsl service)   15299.0\n",
       "                                 no                                               3331.0\n",
       "three or more major races        n/a (gq)                                           79.0\n",
       "                                 yes (cable modem, fiber optic or dsl service)    2867.0\n",
       "                                 no                                                574.0"
      ]
     },
     "execution_count": 27,
     "metadata": {},
     "output_type": "execute_result"
    }
   ],
   "source": [
    "state_households.groupby(['race', 'cihispeed'])[['hhwt']].sum()"
   ]
  },
  {
   "cell_type": "code",
   "execution_count": 28,
   "metadata": {},
   "outputs": [
    {
     "data": {
      "text/plain": [
       "race                              cihispeed                                    \n",
       "white                             n/a (gq)                                          57742.0\n",
       "                                  yes (cable modem, fiber optic or dsl service)    742182.0\n",
       "                                  no                                               124811.0\n",
       "black/african american/negro      n/a (gq)                                          15443.0\n",
       "                                  yes (cable modem, fiber optic or dsl service)    114753.0\n",
       "                                  no                                                31265.0\n",
       "american indian or alaska native  n/a (gq)                                             60.0\n",
       "                                  yes (cable modem, fiber optic or dsl service)      1842.0\n",
       "                                  no                                                  529.0\n",
       "chinese                           n/a (gq)                                            117.0\n",
       "                                  yes (cable modem, fiber optic or dsl service)      3233.0\n",
       "                                  no                                                  553.0\n",
       "japanese                          yes (cable modem, fiber optic or dsl service)      1069.0\n",
       "other asian or pacific islander   n/a (gq)                                           1055.0\n",
       "                                  yes (cable modem, fiber optic or dsl service)     20233.0\n",
       "                                  no                                                 1619.0\n",
       "other race, nec                   n/a (gq)                                           2064.0\n",
       "                                  yes (cable modem, fiber optic or dsl service)      8790.0\n",
       "                                  no                                                 4432.0\n",
       "two major races                   n/a (gq)                                           2576.0\n",
       "                                  yes (cable modem, fiber optic or dsl service)     15299.0\n",
       "                                  no                                                 3331.0\n",
       "three or more major races         n/a (gq)                                             79.0\n",
       "                                  yes (cable modem, fiber optic or dsl service)      2867.0\n",
       "                                  no                                                  574.0\n",
       "Name: hhwt, dtype: float64"
      ]
     },
     "execution_count": 28,
     "metadata": {},
     "output_type": "execute_result"
    }
   ],
   "source": [
    "state_households.groupby(['race', 'cihispeed'])['hhwt'].sum()"
   ]
  },
  {
   "cell_type": "markdown",
   "metadata": {},
   "source": [
    "***"
   ]
  },
  {
   "cell_type": "markdown",
   "metadata": {},
   "source": [
    "#### Step 1: Define your groups\n",
    "\n"
   ]
  },
  {
   "cell_type": "markdown",
   "metadata": {},
   "source": [
    "Pandas' `.loc` indexer serves not only to slice dataframes but also to assign new values to certain slices of dataframes.\n",
    "\n",
    "For example,\n",
    "```python\n",
    "mask_madeup_data = (data['column_1'] == 'no answer')\n",
    "data.loc[mask_madeup_data, 'new_column'] = 'this row did not answer'\n",
    "```"
   ]
  },
  {
   "cell_type": "markdown",
   "metadata": {},
   "source": [
    "The code above grabs all the rows that satisfy the condition and then looks at `'new_column'`, if it doesn't exist, it'll create it for you and assign the value `'this row did not answer'` to all the rows that match the condition. The rest will be filled with null values (NaNs)."
   ]
  },
  {
   "cell_type": "markdown",
   "metadata": {},
   "source": [
    "###### Let's create our masks"
   ]
  },
  {
   "cell_type": "code",
   "execution_count": 29,
   "metadata": {},
   "outputs": [],
   "source": [
    "mask_latino = (state_households['hispan'] != 'not hispanic')"
   ]
  },
  {
   "cell_type": "code",
   "execution_count": 30,
   "metadata": {},
   "outputs": [],
   "source": [
    "mask_white = (state_households['hispan'] == 'not hispanic') & (state_households['race'] == 'white')"
   ]
  },
  {
   "cell_type": "code",
   "execution_count": 31,
   "metadata": {},
   "outputs": [],
   "source": [
    "mask_black = (state_households['hispan'] == 'not hispanic') & (state_households['race'].str.contains('black'))\n",
    "                                                                                "
   ]
  },
  {
   "cell_type": "code",
   "execution_count": 32,
   "metadata": {},
   "outputs": [],
   "source": [
    "mask_native = (state_households['hispan'] == 'not hispanic') & (state_households['race'] == 'american indian or alaska native')"
   ]
  },
  {
   "cell_type": "code",
   "execution_count": 35,
   "metadata": {},
   "outputs": [],
   "source": [
    "mask_API = (state_households['hispan'] == 'not hispanic') & ((state_households['race'] >= 'chinese') & (state_households['race'] <= 'other asian or pacific islander'))"
   ]
  },
  {
   "cell_type": "code",
   "execution_count": 36,
   "metadata": {},
   "outputs": [],
   "source": [
    "mask_other = (state_households['hispan'] == 'not hispanic') & (state_households['race'] >= 'other race, nec')"
   ]
  },
  {
   "cell_type": "markdown",
   "metadata": {},
   "source": [
    "Assign the values to a new column `'racen'` for Race/Ethnicity"
   ]
  },
  {
   "cell_type": "code",
   "execution_count": 37,
   "metadata": {},
   "outputs": [],
   "source": [
    "state_households.loc[mask_latino, 'racen'] = 'Latino'\n",
    "state_households.loc[mask_white, 'racen'] = 'White'\n",
    "state_households.loc[mask_black, 'racen'] = 'Black/African-American'\n",
    "state_households.loc[mask_native, 'racen'] = 'Am. Indian / Alaska Native'\n",
    "state_households.loc[mask_API, 'racen'] = 'Asian / Pacific Islander'\n",
    "state_households.loc[mask_other, 'racen'] = 'other'\n"
   ]
  },
  {
   "cell_type": "markdown",
   "metadata": {},
   "source": [
    "Checking your results.\n",
    "\n",
    "Under your new logic, all `race` values should fit into `racen` values so there should not be any null values, right?"
   ]
  },
  {
   "cell_type": "markdown",
   "metadata": {},
   "source": [
    "Pandas `.isna()` returns a series of either True or False for each value of a series depending on whether or not it is Null. \n",
    "\n",
    "AND\n",
    "\n",
    "in python, True = 1 and False = 0. \n",
    "\n",
    "What do you think would happen if you as for the `.sum()` total of a `pandas.Series` of booleans?"
   ]
  },
  {
   "cell_type": "code",
   "execution_count": 38,
   "metadata": {},
   "outputs": [
    {
     "data": {
      "text/plain": [
       "0"
      ]
     },
     "execution_count": 38,
     "metadata": {},
     "output_type": "execute_result"
    }
   ],
   "source": [
    "state_households['race'].isna().sum()"
   ]
  },
  {
   "cell_type": "markdown",
   "metadata": {},
   "source": [
    "***"
   ]
  },
  {
   "cell_type": "markdown",
   "metadata": {},
   "source": [
    "##### Multiple ways of grouping data"
   ]
  },
  {
   "cell_type": "markdown",
   "metadata": {},
   "source": [
    "Now that you have derived a working variable for race/ethnicity you can aggregate your data to answer **RQ2**. In pandas, there are many ways to do this, some of them are:\n",
    "1. `.groupby()` like we've done so far.\n",
    "2. `.pivot_table()`\n",
    "3. `pd.crosstabs()` <- this one is a `pandas` method, not a DataFrame method. More later."
   ]
  },
  {
   "cell_type": "markdown",
   "metadata": {},
   "source": [
    "##### GroupBy"
   ]
  },
  {
   "cell_type": "code",
   "execution_count": 40,
   "metadata": {},
   "outputs": [
    {
     "data": {
      "text/html": [
       "<div>\n",
       "<style scoped>\n",
       "    .dataframe tbody tr th:only-of-type {\n",
       "        vertical-align: middle;\n",
       "    }\n",
       "\n",
       "    .dataframe tbody tr th {\n",
       "        vertical-align: top;\n",
       "    }\n",
       "\n",
       "    .dataframe thead th {\n",
       "        text-align: right;\n",
       "    }\n",
       "</style>\n",
       "<table border=\"1\" class=\"dataframe\">\n",
       "  <thead>\n",
       "    <tr style=\"text-align: right;\">\n",
       "      <th></th>\n",
       "      <th></th>\n",
       "      <th>hhwt</th>\n",
       "    </tr>\n",
       "    <tr>\n",
       "      <th>racen</th>\n",
       "      <th>cihispeed</th>\n",
       "      <th></th>\n",
       "    </tr>\n",
       "  </thead>\n",
       "  <tbody>\n",
       "    <tr>\n",
       "      <th rowspan=\"3\" valign=\"top\">Am. Indian / Alaska Native</th>\n",
       "      <th>n/a (gq)</th>\n",
       "      <td>60.0</td>\n",
       "    </tr>\n",
       "    <tr>\n",
       "      <th>yes (cable modem, fiber optic or dsl service)</th>\n",
       "      <td>1140.0</td>\n",
       "    </tr>\n",
       "    <tr>\n",
       "      <th>no</th>\n",
       "      <td>529.0</td>\n",
       "    </tr>\n",
       "    <tr>\n",
       "      <th rowspan=\"3\" valign=\"top\">Asian / Pacific Islander</th>\n",
       "      <th>n/a (gq)</th>\n",
       "      <td>1172.0</td>\n",
       "    </tr>\n",
       "    <tr>\n",
       "      <th>yes (cable modem, fiber optic or dsl service)</th>\n",
       "      <td>24535.0</td>\n",
       "    </tr>\n",
       "    <tr>\n",
       "      <th>no</th>\n",
       "      <td>2172.0</td>\n",
       "    </tr>\n",
       "    <tr>\n",
       "      <th rowspan=\"3\" valign=\"top\">Black/African-American</th>\n",
       "      <th>n/a (gq)</th>\n",
       "      <td>15254.0</td>\n",
       "    </tr>\n",
       "    <tr>\n",
       "      <th>yes (cable modem, fiber optic or dsl service)</th>\n",
       "      <td>114289.0</td>\n",
       "    </tr>\n",
       "    <tr>\n",
       "      <th>no</th>\n",
       "      <td>30805.0</td>\n",
       "    </tr>\n",
       "    <tr>\n",
       "      <th rowspan=\"3\" valign=\"top\">Latino</th>\n",
       "      <th>n/a (gq)</th>\n",
       "      <td>4408.0</td>\n",
       "    </tr>\n",
       "    <tr>\n",
       "      <th>yes (cable modem, fiber optic or dsl service)</th>\n",
       "      <td>37101.0</td>\n",
       "    </tr>\n",
       "    <tr>\n",
       "      <th>no</th>\n",
       "      <td>10413.0</td>\n",
       "    </tr>\n",
       "    <tr>\n",
       "      <th rowspan=\"3\" valign=\"top\">White</th>\n",
       "      <th>n/a (gq)</th>\n",
       "      <td>55415.0</td>\n",
       "    </tr>\n",
       "    <tr>\n",
       "      <th>yes (cable modem, fiber optic or dsl service)</th>\n",
       "      <td>717266.0</td>\n",
       "    </tr>\n",
       "    <tr>\n",
       "      <th>no</th>\n",
       "      <td>118725.0</td>\n",
       "    </tr>\n",
       "    <tr>\n",
       "      <th rowspan=\"3\" valign=\"top\">other</th>\n",
       "      <th>n/a (gq)</th>\n",
       "      <td>2827.0</td>\n",
       "    </tr>\n",
       "    <tr>\n",
       "      <th>yes (cable modem, fiber optic or dsl service)</th>\n",
       "      <td>15937.0</td>\n",
       "    </tr>\n",
       "    <tr>\n",
       "      <th>no</th>\n",
       "      <td>4470.0</td>\n",
       "    </tr>\n",
       "  </tbody>\n",
       "</table>\n",
       "</div>"
      ],
      "text/plain": [
       "                                                                              hhwt\n",
       "racen                      cihispeed                                              \n",
       "Am. Indian / Alaska Native n/a (gq)                                           60.0\n",
       "                           yes (cable modem, fiber optic or dsl service)    1140.0\n",
       "                           no                                                529.0\n",
       "Asian / Pacific Islander   n/a (gq)                                         1172.0\n",
       "                           yes (cable modem, fiber optic or dsl service)   24535.0\n",
       "                           no                                               2172.0\n",
       "Black/African-American     n/a (gq)                                        15254.0\n",
       "                           yes (cable modem, fiber optic or dsl service)  114289.0\n",
       "                           no                                              30805.0\n",
       "Latino                     n/a (gq)                                         4408.0\n",
       "                           yes (cable modem, fiber optic or dsl service)   37101.0\n",
       "                           no                                              10413.0\n",
       "White                      n/a (gq)                                        55415.0\n",
       "                           yes (cable modem, fiber optic or dsl service)  717266.0\n",
       "                           no                                             118725.0\n",
       "other                      n/a (gq)                                         2827.0\n",
       "                           yes (cable modem, fiber optic or dsl service)   15937.0\n",
       "                           no                                               4470.0"
      ]
     },
     "execution_count": 40,
     "metadata": {},
     "output_type": "execute_result"
    }
   ],
   "source": [
    "state_households.groupby(['racen', 'cihispeed'])[['hhwt']].sum()"
   ]
  },
  {
   "cell_type": "markdown",
   "metadata": {},
   "source": [
    "Let's save that to an appropriately named variable since we'll be using it later."
   ]
  },
  {
   "cell_type": "code",
   "execution_count": 41,
   "metadata": {},
   "outputs": [],
   "source": [
    "cihispeed_by_racen = state_households.groupby(['racen', 'cihispeed'])[['hhwt']].sum()"
   ]
  },
  {
   "cell_type": "markdown",
   "metadata": {},
   "source": [
    "Now, this grouped dataframe has the total number of households in each of these racen-cihispeed groups. \n",
    "\n",
    "We need the share of cihispeed values by racen group. \n",
    "\n",
    "In our equation,\n",
    "\n",
    "$$ \\frac{households\\ with\\ high\\ speed\\ internet}{total\\ households\\ in\\ racen\\ group}$$\n",
    "\n",
    "We need to find the denominator."
   ]
  },
  {
   "cell_type": "code",
   "execution_count": 54,
   "metadata": {},
   "outputs": [],
   "source": [
    "households_by_racen = state_households.groupby('racen')[['hhwt']].sum()"
   ]
  },
  {
   "cell_type": "code",
   "execution_count": 57,
   "metadata": {},
   "outputs": [
    {
     "data": {
      "text/html": [
       "<div>\n",
       "<style scoped>\n",
       "    .dataframe tbody tr th:only-of-type {\n",
       "        vertical-align: middle;\n",
       "    }\n",
       "\n",
       "    .dataframe tbody tr th {\n",
       "        vertical-align: top;\n",
       "    }\n",
       "\n",
       "    .dataframe thead th {\n",
       "        text-align: right;\n",
       "    }\n",
       "</style>\n",
       "<table border=\"1\" class=\"dataframe\">\n",
       "  <thead>\n",
       "    <tr style=\"text-align: right;\">\n",
       "      <th></th>\n",
       "      <th></th>\n",
       "      <th>hhwt</th>\n",
       "    </tr>\n",
       "    <tr>\n",
       "      <th>racen</th>\n",
       "      <th>cihispeed</th>\n",
       "      <th></th>\n",
       "    </tr>\n",
       "  </thead>\n",
       "  <tbody>\n",
       "    <tr>\n",
       "      <th rowspan=\"3\" valign=\"top\">Am. Indian / Alaska Native</th>\n",
       "      <th>n/a (gq)</th>\n",
       "      <td>0.034702</td>\n",
       "    </tr>\n",
       "    <tr>\n",
       "      <th>yes (cable modem, fiber optic or dsl service)</th>\n",
       "      <td>0.659341</td>\n",
       "    </tr>\n",
       "    <tr>\n",
       "      <th>no</th>\n",
       "      <td>0.305957</td>\n",
       "    </tr>\n",
       "    <tr>\n",
       "      <th rowspan=\"3\" valign=\"top\">Asian / Pacific Islander</th>\n",
       "      <th>n/a (gq)</th>\n",
       "      <td>0.042039</td>\n",
       "    </tr>\n",
       "    <tr>\n",
       "      <th>yes (cable modem, fiber optic or dsl service)</th>\n",
       "      <td>0.880053</td>\n",
       "    </tr>\n",
       "    <tr>\n",
       "      <th>no</th>\n",
       "      <td>0.077908</td>\n",
       "    </tr>\n",
       "    <tr>\n",
       "      <th rowspan=\"3\" valign=\"top\">Black/African-American</th>\n",
       "      <th>n/a (gq)</th>\n",
       "      <td>0.095131</td>\n",
       "    </tr>\n",
       "    <tr>\n",
       "      <th>yes (cable modem, fiber optic or dsl service)</th>\n",
       "      <td>0.712756</td>\n",
       "    </tr>\n",
       "    <tr>\n",
       "      <th>no</th>\n",
       "      <td>0.192113</td>\n",
       "    </tr>\n",
       "    <tr>\n",
       "      <th rowspan=\"3\" valign=\"top\">Latino</th>\n",
       "      <th>n/a (gq)</th>\n",
       "      <td>0.084897</td>\n",
       "    </tr>\n",
       "    <tr>\n",
       "      <th>yes (cable modem, fiber optic or dsl service)</th>\n",
       "      <td>0.714553</td>\n",
       "    </tr>\n",
       "    <tr>\n",
       "      <th>no</th>\n",
       "      <td>0.200551</td>\n",
       "    </tr>\n",
       "    <tr>\n",
       "      <th rowspan=\"3\" valign=\"top\">White</th>\n",
       "      <th>n/a (gq)</th>\n",
       "      <td>0.062166</td>\n",
       "    </tr>\n",
       "    <tr>\n",
       "      <th>yes (cable modem, fiber optic or dsl service)</th>\n",
       "      <td>0.804646</td>\n",
       "    </tr>\n",
       "    <tr>\n",
       "      <th>no</th>\n",
       "      <td>0.133188</td>\n",
       "    </tr>\n",
       "    <tr>\n",
       "      <th rowspan=\"3\" valign=\"top\">other</th>\n",
       "      <th>n/a (gq)</th>\n",
       "      <td>0.121675</td>\n",
       "    </tr>\n",
       "    <tr>\n",
       "      <th>yes (cable modem, fiber optic or dsl service)</th>\n",
       "      <td>0.685934</td>\n",
       "    </tr>\n",
       "    <tr>\n",
       "      <th>no</th>\n",
       "      <td>0.192390</td>\n",
       "    </tr>\n",
       "  </tbody>\n",
       "</table>\n",
       "</div>"
      ],
      "text/plain": [
       "                                                                              hhwt\n",
       "racen                      cihispeed                                              \n",
       "Am. Indian / Alaska Native n/a (gq)                                       0.034702\n",
       "                           yes (cable modem, fiber optic or dsl service)  0.659341\n",
       "                           no                                             0.305957\n",
       "Asian / Pacific Islander   n/a (gq)                                       0.042039\n",
       "                           yes (cable modem, fiber optic or dsl service)  0.880053\n",
       "                           no                                             0.077908\n",
       "Black/African-American     n/a (gq)                                       0.095131\n",
       "                           yes (cable modem, fiber optic or dsl service)  0.712756\n",
       "                           no                                             0.192113\n",
       "Latino                     n/a (gq)                                       0.084897\n",
       "                           yes (cable modem, fiber optic or dsl service)  0.714553\n",
       "                           no                                             0.200551\n",
       "White                      n/a (gq)                                       0.062166\n",
       "                           yes (cable modem, fiber optic or dsl service)  0.804646\n",
       "                           no                                             0.133188\n",
       "other                      n/a (gq)                                       0.121675\n",
       "                           yes (cable modem, fiber optic or dsl service)  0.685934\n",
       "                           no                                             0.192390"
      ]
     },
     "execution_count": 57,
     "metadata": {},
     "output_type": "execute_result"
    }
   ],
   "source": [
    "shares_cihispeed_by_racen = cihispeed_by_racen / households_by_racen\n",
    "\n",
    "shares_cihispeed_by_racen"
   ]
  },
  {
   "cell_type": "markdown",
   "metadata": {},
   "source": [
    "This is a multi-level index dataframe and there are a few ways to slice it. Let's try 3:\n",
    "1. a classsic `.loc` slice\n",
    "2. a cross-section (`.xs()`)\n",
    "3. the `.reset_index()` method"
   ]
  },
  {
   "cell_type": "markdown",
   "metadata": {},
   "source": [
    "**Classic `.loc`**"
   ]
  },
  {
   "cell_type": "code",
   "execution_count": 58,
   "metadata": {},
   "outputs": [
    {
     "data": {
      "text/html": [
       "<div>\n",
       "<style scoped>\n",
       "    .dataframe tbody tr th:only-of-type {\n",
       "        vertical-align: middle;\n",
       "    }\n",
       "\n",
       "    .dataframe tbody tr th {\n",
       "        vertical-align: top;\n",
       "    }\n",
       "\n",
       "    .dataframe thead th {\n",
       "        text-align: right;\n",
       "    }\n",
       "</style>\n",
       "<table border=\"1\" class=\"dataframe\">\n",
       "  <thead>\n",
       "    <tr style=\"text-align: right;\">\n",
       "      <th></th>\n",
       "      <th></th>\n",
       "      <th>hhwt</th>\n",
       "    </tr>\n",
       "    <tr>\n",
       "      <th>racen</th>\n",
       "      <th>cihispeed</th>\n",
       "      <th></th>\n",
       "    </tr>\n",
       "  </thead>\n",
       "  <tbody>\n",
       "    <tr>\n",
       "      <th>Am. Indian / Alaska Native</th>\n",
       "      <th>yes (cable modem, fiber optic or dsl service)</th>\n",
       "      <td>0.659341</td>\n",
       "    </tr>\n",
       "    <tr>\n",
       "      <th>Asian / Pacific Islander</th>\n",
       "      <th>yes (cable modem, fiber optic or dsl service)</th>\n",
       "      <td>0.880053</td>\n",
       "    </tr>\n",
       "    <tr>\n",
       "      <th>Black/African-American</th>\n",
       "      <th>yes (cable modem, fiber optic or dsl service)</th>\n",
       "      <td>0.712756</td>\n",
       "    </tr>\n",
       "    <tr>\n",
       "      <th>Latino</th>\n",
       "      <th>yes (cable modem, fiber optic or dsl service)</th>\n",
       "      <td>0.714553</td>\n",
       "    </tr>\n",
       "    <tr>\n",
       "      <th>White</th>\n",
       "      <th>yes (cable modem, fiber optic or dsl service)</th>\n",
       "      <td>0.804646</td>\n",
       "    </tr>\n",
       "    <tr>\n",
       "      <th>other</th>\n",
       "      <th>yes (cable modem, fiber optic or dsl service)</th>\n",
       "      <td>0.685934</td>\n",
       "    </tr>\n",
       "  </tbody>\n",
       "</table>\n",
       "</div>"
      ],
      "text/plain": [
       "                                                                              hhwt\n",
       "racen                      cihispeed                                              \n",
       "Am. Indian / Alaska Native yes (cable modem, fiber optic or dsl service)  0.659341\n",
       "Asian / Pacific Islander   yes (cable modem, fiber optic or dsl service)  0.880053\n",
       "Black/African-American     yes (cable modem, fiber optic or dsl service)  0.712756\n",
       "Latino                     yes (cable modem, fiber optic or dsl service)  0.714553\n",
       "White                      yes (cable modem, fiber optic or dsl service)  0.804646\n",
       "other                      yes (cable modem, fiber optic or dsl service)  0.685934"
      ]
     },
     "execution_count": 58,
     "metadata": {},
     "output_type": "execute_result"
    }
   ],
   "source": [
    "shares_cihispeed_by_racen.loc[(slice(None), 'yes (cable modem, fiber optic or dsl service)'), :]"
   ]
  },
  {
   "cell_type": "markdown",
   "metadata": {},
   "source": [
    "**cross-section**"
   ]
  },
  {
   "cell_type": "code",
   "execution_count": 59,
   "metadata": {},
   "outputs": [
    {
     "data": {
      "text/plain": [
       "\u001b[0;31mSignature:\u001b[0m \u001b[0mshares_cihispeed_by_racen\u001b[0m\u001b[0;34m.\u001b[0m\u001b[0mxs\u001b[0m\u001b[0;34m(\u001b[0m\u001b[0mkey\u001b[0m\u001b[0;34m,\u001b[0m \u001b[0maxis\u001b[0m\u001b[0;34m=\u001b[0m\u001b[0;36m0\u001b[0m\u001b[0;34m,\u001b[0m \u001b[0mlevel\u001b[0m\u001b[0;34m=\u001b[0m\u001b[0;32mNone\u001b[0m\u001b[0;34m,\u001b[0m \u001b[0mdrop_level\u001b[0m\u001b[0;34m=\u001b[0m\u001b[0;32mTrue\u001b[0m\u001b[0;34m)\u001b[0m\u001b[0;34m\u001b[0m\u001b[0;34m\u001b[0m\u001b[0m\n",
       "\u001b[0;31mDocstring:\u001b[0m\n",
       "Return cross-section from the Series/DataFrame.\n",
       "\n",
       "This method takes a `key` argument to select data at a particular\n",
       "level of a MultiIndex.\n",
       "\n",
       "Parameters\n",
       "----------\n",
       "key : label or tuple of label\n",
       "    Label contained in the index, or partially in a MultiIndex.\n",
       "axis : {0 or 'index', 1 or 'columns'}, default 0\n",
       "    Axis to retrieve cross-section on.\n",
       "level : object, defaults to first n levels (n=1 or len(key))\n",
       "    In case of a key partially contained in a MultiIndex, indicate\n",
       "    which levels are used. Levels can be referred by label or position.\n",
       "drop_level : bool, default True\n",
       "    If False, returns object with same levels as self.\n",
       "\n",
       "Returns\n",
       "-------\n",
       "Series or DataFrame\n",
       "    Cross-section from the original Series or DataFrame\n",
       "    corresponding to the selected index levels.\n",
       "\n",
       "See Also\n",
       "--------\n",
       "DataFrame.loc : Access a group of rows and columns\n",
       "    by label(s) or a boolean array.\n",
       "DataFrame.iloc : Purely integer-location based indexing\n",
       "    for selection by position.\n",
       "\n",
       "Notes\n",
       "-----\n",
       "`xs` can not be used to set values.\n",
       "\n",
       "MultiIndex Slicers is a generic way to get/set values on\n",
       "any level or levels.\n",
       "It is a superset of `xs` functionality, see\n",
       ":ref:`MultiIndex Slicers <advanced.mi_slicers>`.\n",
       "\n",
       "Examples\n",
       "--------\n",
       ">>> d = {'num_legs': [4, 4, 2, 2],\n",
       "...      'num_wings': [0, 0, 2, 2],\n",
       "...      'class': ['mammal', 'mammal', 'mammal', 'bird'],\n",
       "...      'animal': ['cat', 'dog', 'bat', 'penguin'],\n",
       "...      'locomotion': ['walks', 'walks', 'flies', 'walks']}\n",
       ">>> df = pd.DataFrame(data=d)\n",
       ">>> df = df.set_index(['class', 'animal', 'locomotion'])\n",
       ">>> df\n",
       "                           num_legs  num_wings\n",
       "class  animal  locomotion\n",
       "mammal cat     walks              4          0\n",
       "       dog     walks              4          0\n",
       "       bat     flies              2          2\n",
       "bird   penguin walks              2          2\n",
       "\n",
       "Get values at specified index\n",
       "\n",
       ">>> df.xs('mammal')\n",
       "                   num_legs  num_wings\n",
       "animal locomotion\n",
       "cat    walks              4          0\n",
       "dog    walks              4          0\n",
       "bat    flies              2          2\n",
       "\n",
       "Get values at several indexes\n",
       "\n",
       ">>> df.xs(('mammal', 'dog'))\n",
       "            num_legs  num_wings\n",
       "locomotion\n",
       "walks              4          0\n",
       "\n",
       "Get values at specified index and level\n",
       "\n",
       ">>> df.xs('cat', level=1)\n",
       "                   num_legs  num_wings\n",
       "class  locomotion\n",
       "mammal walks              4          0\n",
       "\n",
       "Get values at several indexes and levels\n",
       "\n",
       ">>> df.xs(('bird', 'walks'),\n",
       "...       level=[0, 'locomotion'])\n",
       "         num_legs  num_wings\n",
       "animal\n",
       "penguin         2          2\n",
       "\n",
       "Get values at specified column and axis\n",
       "\n",
       ">>> df.xs('num_wings', axis=1)\n",
       "class   animal   locomotion\n",
       "mammal  cat      walks         0\n",
       "        dog      walks         0\n",
       "        bat      flies         2\n",
       "bird    penguin  walks         2\n",
       "Name: num_wings, dtype: int64\n",
       "\u001b[0;31mFile:\u001b[0m      /anaconda3/envs/pycon/lib/python3.7/site-packages/pandas/core/generic.py\n",
       "\u001b[0;31mType:\u001b[0m      method\n"
      ]
     },
     "metadata": {},
     "output_type": "display_data"
    }
   ],
   "source": [
    "shares_cihispeed_by_racen.xs?"
   ]
  },
  {
   "cell_type": "code",
   "execution_count": 60,
   "metadata": {},
   "outputs": [
    {
     "data": {
      "text/html": [
       "<div>\n",
       "<style scoped>\n",
       "    .dataframe tbody tr th:only-of-type {\n",
       "        vertical-align: middle;\n",
       "    }\n",
       "\n",
       "    .dataframe tbody tr th {\n",
       "        vertical-align: top;\n",
       "    }\n",
       "\n",
       "    .dataframe thead th {\n",
       "        text-align: right;\n",
       "    }\n",
       "</style>\n",
       "<table border=\"1\" class=\"dataframe\">\n",
       "  <thead>\n",
       "    <tr style=\"text-align: right;\">\n",
       "      <th></th>\n",
       "      <th>hhwt</th>\n",
       "    </tr>\n",
       "    <tr>\n",
       "      <th>racen</th>\n",
       "      <th></th>\n",
       "    </tr>\n",
       "  </thead>\n",
       "  <tbody>\n",
       "    <tr>\n",
       "      <th>Am. Indian / Alaska Native</th>\n",
       "      <td>0.659341</td>\n",
       "    </tr>\n",
       "    <tr>\n",
       "      <th>Asian / Pacific Islander</th>\n",
       "      <td>0.880053</td>\n",
       "    </tr>\n",
       "    <tr>\n",
       "      <th>Black/African-American</th>\n",
       "      <td>0.712756</td>\n",
       "    </tr>\n",
       "    <tr>\n",
       "      <th>Latino</th>\n",
       "      <td>0.714553</td>\n",
       "    </tr>\n",
       "    <tr>\n",
       "      <th>White</th>\n",
       "      <td>0.804646</td>\n",
       "    </tr>\n",
       "    <tr>\n",
       "      <th>other</th>\n",
       "      <td>0.685934</td>\n",
       "    </tr>\n",
       "  </tbody>\n",
       "</table>\n",
       "</div>"
      ],
      "text/plain": [
       "                                hhwt\n",
       "racen                               \n",
       "Am. Indian / Alaska Native  0.659341\n",
       "Asian / Pacific Islander    0.880053\n",
       "Black/African-American      0.712756\n",
       "Latino                      0.714553\n",
       "White                       0.804646\n",
       "other                       0.685934"
      ]
     },
     "execution_count": 60,
     "metadata": {},
     "output_type": "execute_result"
    }
   ],
   "source": [
    "shares_cihispeed_by_racen.xs(key = 'yes (cable modem, fiber optic or dsl service)', level = 1)\n"
   ]
  },
  {
   "cell_type": "markdown",
   "metadata": {},
   "source": [
    "**`.reset_index()`**"
   ]
  },
  {
   "cell_type": "markdown",
   "metadata": {},
   "source": [
    "Another way to slice a multi-level index dataframe is to make it a not-multi-level index dataframe. To do that you need to _reset_ its index."
   ]
  },
  {
   "cell_type": "code",
   "execution_count": 61,
   "metadata": {},
   "outputs": [],
   "source": [
    "shares_cihispeed_by_racen = shares_cihispeed_by_racen.reset_index()"
   ]
  },
  {
   "cell_type": "code",
   "execution_count": 64,
   "metadata": {},
   "outputs": [
    {
     "data": {
      "text/html": [
       "<div>\n",
       "<style scoped>\n",
       "    .dataframe tbody tr th:only-of-type {\n",
       "        vertical-align: middle;\n",
       "    }\n",
       "\n",
       "    .dataframe tbody tr th {\n",
       "        vertical-align: top;\n",
       "    }\n",
       "\n",
       "    .dataframe thead th {\n",
       "        text-align: right;\n",
       "    }\n",
       "</style>\n",
       "<table border=\"1\" class=\"dataframe\">\n",
       "  <thead>\n",
       "    <tr style=\"text-align: right;\">\n",
       "      <th></th>\n",
       "      <th>racen</th>\n",
       "      <th>cihispeed</th>\n",
       "      <th>hhwt</th>\n",
       "    </tr>\n",
       "  </thead>\n",
       "  <tbody>\n",
       "    <tr>\n",
       "      <th>0</th>\n",
       "      <td>Am. Indian / Alaska Native</td>\n",
       "      <td>n/a (gq)</td>\n",
       "      <td>0.034702</td>\n",
       "    </tr>\n",
       "    <tr>\n",
       "      <th>1</th>\n",
       "      <td>Am. Indian / Alaska Native</td>\n",
       "      <td>yes (cable modem, fiber optic or dsl service)</td>\n",
       "      <td>0.659341</td>\n",
       "    </tr>\n",
       "    <tr>\n",
       "      <th>2</th>\n",
       "      <td>Am. Indian / Alaska Native</td>\n",
       "      <td>no</td>\n",
       "      <td>0.305957</td>\n",
       "    </tr>\n",
       "    <tr>\n",
       "      <th>3</th>\n",
       "      <td>Asian / Pacific Islander</td>\n",
       "      <td>n/a (gq)</td>\n",
       "      <td>0.042039</td>\n",
       "    </tr>\n",
       "    <tr>\n",
       "      <th>4</th>\n",
       "      <td>Asian / Pacific Islander</td>\n",
       "      <td>yes (cable modem, fiber optic or dsl service)</td>\n",
       "      <td>0.880053</td>\n",
       "    </tr>\n",
       "    <tr>\n",
       "      <th>5</th>\n",
       "      <td>Asian / Pacific Islander</td>\n",
       "      <td>no</td>\n",
       "      <td>0.077908</td>\n",
       "    </tr>\n",
       "    <tr>\n",
       "      <th>6</th>\n",
       "      <td>Black/African-American</td>\n",
       "      <td>n/a (gq)</td>\n",
       "      <td>0.095131</td>\n",
       "    </tr>\n",
       "    <tr>\n",
       "      <th>7</th>\n",
       "      <td>Black/African-American</td>\n",
       "      <td>yes (cable modem, fiber optic or dsl service)</td>\n",
       "      <td>0.712756</td>\n",
       "    </tr>\n",
       "    <tr>\n",
       "      <th>8</th>\n",
       "      <td>Black/African-American</td>\n",
       "      <td>no</td>\n",
       "      <td>0.192113</td>\n",
       "    </tr>\n",
       "    <tr>\n",
       "      <th>9</th>\n",
       "      <td>Latino</td>\n",
       "      <td>n/a (gq)</td>\n",
       "      <td>0.084897</td>\n",
       "    </tr>\n",
       "    <tr>\n",
       "      <th>10</th>\n",
       "      <td>Latino</td>\n",
       "      <td>yes (cable modem, fiber optic or dsl service)</td>\n",
       "      <td>0.714553</td>\n",
       "    </tr>\n",
       "    <tr>\n",
       "      <th>11</th>\n",
       "      <td>Latino</td>\n",
       "      <td>no</td>\n",
       "      <td>0.200551</td>\n",
       "    </tr>\n",
       "    <tr>\n",
       "      <th>12</th>\n",
       "      <td>White</td>\n",
       "      <td>n/a (gq)</td>\n",
       "      <td>0.062166</td>\n",
       "    </tr>\n",
       "    <tr>\n",
       "      <th>13</th>\n",
       "      <td>White</td>\n",
       "      <td>yes (cable modem, fiber optic or dsl service)</td>\n",
       "      <td>0.804646</td>\n",
       "    </tr>\n",
       "    <tr>\n",
       "      <th>14</th>\n",
       "      <td>White</td>\n",
       "      <td>no</td>\n",
       "      <td>0.133188</td>\n",
       "    </tr>\n",
       "    <tr>\n",
       "      <th>15</th>\n",
       "      <td>other</td>\n",
       "      <td>n/a (gq)</td>\n",
       "      <td>0.121675</td>\n",
       "    </tr>\n",
       "    <tr>\n",
       "      <th>16</th>\n",
       "      <td>other</td>\n",
       "      <td>yes (cable modem, fiber optic or dsl service)</td>\n",
       "      <td>0.685934</td>\n",
       "    </tr>\n",
       "    <tr>\n",
       "      <th>17</th>\n",
       "      <td>other</td>\n",
       "      <td>no</td>\n",
       "      <td>0.192390</td>\n",
       "    </tr>\n",
       "  </tbody>\n",
       "</table>\n",
       "</div>"
      ],
      "text/plain": [
       "                         racen                                      cihispeed  \\\n",
       "0   Am. Indian / Alaska Native                                       n/a (gq)   \n",
       "1   Am. Indian / Alaska Native  yes (cable modem, fiber optic or dsl service)   \n",
       "2   Am. Indian / Alaska Native                                             no   \n",
       "3     Asian / Pacific Islander                                       n/a (gq)   \n",
       "4     Asian / Pacific Islander  yes (cable modem, fiber optic or dsl service)   \n",
       "5     Asian / Pacific Islander                                             no   \n",
       "6       Black/African-American                                       n/a (gq)   \n",
       "7       Black/African-American  yes (cable modem, fiber optic or dsl service)   \n",
       "8       Black/African-American                                             no   \n",
       "9                       Latino                                       n/a (gq)   \n",
       "10                      Latino  yes (cable modem, fiber optic or dsl service)   \n",
       "11                      Latino                                             no   \n",
       "12                       White                                       n/a (gq)   \n",
       "13                       White  yes (cable modem, fiber optic or dsl service)   \n",
       "14                       White                                             no   \n",
       "15                       other                                       n/a (gq)   \n",
       "16                       other  yes (cable modem, fiber optic or dsl service)   \n",
       "17                       other                                             no   \n",
       "\n",
       "        hhwt  \n",
       "0   0.034702  \n",
       "1   0.659341  \n",
       "2   0.305957  \n",
       "3   0.042039  \n",
       "4   0.880053  \n",
       "5   0.077908  \n",
       "6   0.095131  \n",
       "7   0.712756  \n",
       "8   0.192113  \n",
       "9   0.084897  \n",
       "10  0.714553  \n",
       "11  0.200551  \n",
       "12  0.062166  \n",
       "13  0.804646  \n",
       "14  0.133188  \n",
       "15  0.121675  \n",
       "16  0.685934  \n",
       "17  0.192390  "
      ]
     },
     "execution_count": 64,
     "metadata": {},
     "output_type": "execute_result"
    }
   ],
   "source": [
    "shares_cihispeed_by_racen"
   ]
  },
  {
   "cell_type": "code",
   "execution_count": 65,
   "metadata": {},
   "outputs": [
    {
     "data": {
      "text/html": [
       "<div>\n",
       "<style scoped>\n",
       "    .dataframe tbody tr th:only-of-type {\n",
       "        vertical-align: middle;\n",
       "    }\n",
       "\n",
       "    .dataframe tbody tr th {\n",
       "        vertical-align: top;\n",
       "    }\n",
       "\n",
       "    .dataframe thead th {\n",
       "        text-align: right;\n",
       "    }\n",
       "</style>\n",
       "<table border=\"1\" class=\"dataframe\">\n",
       "  <thead>\n",
       "    <tr style=\"text-align: right;\">\n",
       "      <th></th>\n",
       "      <th>racen</th>\n",
       "      <th>cihispeed</th>\n",
       "      <th>hhwt</th>\n",
       "    </tr>\n",
       "  </thead>\n",
       "  <tbody>\n",
       "    <tr>\n",
       "      <th>1</th>\n",
       "      <td>Am. Indian / Alaska Native</td>\n",
       "      <td>yes (cable modem, fiber optic or dsl service)</td>\n",
       "      <td>0.659341</td>\n",
       "    </tr>\n",
       "    <tr>\n",
       "      <th>4</th>\n",
       "      <td>Asian / Pacific Islander</td>\n",
       "      <td>yes (cable modem, fiber optic or dsl service)</td>\n",
       "      <td>0.880053</td>\n",
       "    </tr>\n",
       "    <tr>\n",
       "      <th>7</th>\n",
       "      <td>Black/African-American</td>\n",
       "      <td>yes (cable modem, fiber optic or dsl service)</td>\n",
       "      <td>0.712756</td>\n",
       "    </tr>\n",
       "    <tr>\n",
       "      <th>10</th>\n",
       "      <td>Latino</td>\n",
       "      <td>yes (cable modem, fiber optic or dsl service)</td>\n",
       "      <td>0.714553</td>\n",
       "    </tr>\n",
       "    <tr>\n",
       "      <th>13</th>\n",
       "      <td>White</td>\n",
       "      <td>yes (cable modem, fiber optic or dsl service)</td>\n",
       "      <td>0.804646</td>\n",
       "    </tr>\n",
       "    <tr>\n",
       "      <th>16</th>\n",
       "      <td>other</td>\n",
       "      <td>yes (cable modem, fiber optic or dsl service)</td>\n",
       "      <td>0.685934</td>\n",
       "    </tr>\n",
       "  </tbody>\n",
       "</table>\n",
       "</div>"
      ],
      "text/plain": [
       "                         racen                                      cihispeed  \\\n",
       "1   Am. Indian / Alaska Native  yes (cable modem, fiber optic or dsl service)   \n",
       "4     Asian / Pacific Islander  yes (cable modem, fiber optic or dsl service)   \n",
       "7       Black/African-American  yes (cable modem, fiber optic or dsl service)   \n",
       "10                      Latino  yes (cable modem, fiber optic or dsl service)   \n",
       "13                       White  yes (cable modem, fiber optic or dsl service)   \n",
       "16                       other  yes (cable modem, fiber optic or dsl service)   \n",
       "\n",
       "        hhwt  \n",
       "1   0.659341  \n",
       "4   0.880053  \n",
       "7   0.712756  \n",
       "10  0.714553  \n",
       "13  0.804646  \n",
       "16  0.685934  "
      ]
     },
     "execution_count": 65,
     "metadata": {},
     "output_type": "execute_result"
    }
   ],
   "source": [
    "mask_yes_cihispeed = (shares_cihispeed_by_racen['cihispeed'] == 'yes (cable modem, fiber optic or dsl service)')\n",
    "\n",
    "shares_cihispeed_by_racen[mask_yes_cihispeed]"
   ]
  },
  {
   "cell_type": "markdown",
   "metadata": {},
   "source": [
    "***"
   ]
  },
  {
   "cell_type": "markdown",
   "metadata": {},
   "source": [
    "##### Pivot Tables"
   ]
  },
  {
   "cell_type": "markdown",
   "metadata": {},
   "source": [
    "The second method of aggregating our data is `.pivot_table()`s.\n",
    "\n",
    "If you've worked with Excel, you might already be familiar with what a pivot table is.\n",
    "\n",
    "From [Wikipedia](https://en.wikipedia.org/wiki/Pivot_table):\n",
    ">A pivot table is a table of statistics that summarizes the data of a more extensive table (such as from a database, spreadsheet, or business intelligence program). This summary might include sums, averages, or other statistics, which the pivot table groups together in a meaningful way."
   ]
  },
  {
   "cell_type": "code",
   "execution_count": 66,
   "metadata": {},
   "outputs": [
    {
     "data": {
      "text/plain": [
       "\u001b[0;31mSignature:\u001b[0m\n",
       "\u001b[0mstate_households\u001b[0m\u001b[0;34m.\u001b[0m\u001b[0mpivot_table\u001b[0m\u001b[0;34m(\u001b[0m\u001b[0;34m\u001b[0m\n",
       "\u001b[0;34m\u001b[0m    \u001b[0mvalues\u001b[0m\u001b[0;34m=\u001b[0m\u001b[0;32mNone\u001b[0m\u001b[0;34m,\u001b[0m\u001b[0;34m\u001b[0m\n",
       "\u001b[0;34m\u001b[0m    \u001b[0mindex\u001b[0m\u001b[0;34m=\u001b[0m\u001b[0;32mNone\u001b[0m\u001b[0;34m,\u001b[0m\u001b[0;34m\u001b[0m\n",
       "\u001b[0;34m\u001b[0m    \u001b[0mcolumns\u001b[0m\u001b[0;34m=\u001b[0m\u001b[0;32mNone\u001b[0m\u001b[0;34m,\u001b[0m\u001b[0;34m\u001b[0m\n",
       "\u001b[0;34m\u001b[0m    \u001b[0maggfunc\u001b[0m\u001b[0;34m=\u001b[0m\u001b[0;34m'mean'\u001b[0m\u001b[0;34m,\u001b[0m\u001b[0;34m\u001b[0m\n",
       "\u001b[0;34m\u001b[0m    \u001b[0mfill_value\u001b[0m\u001b[0;34m=\u001b[0m\u001b[0;32mNone\u001b[0m\u001b[0;34m,\u001b[0m\u001b[0;34m\u001b[0m\n",
       "\u001b[0;34m\u001b[0m    \u001b[0mmargins\u001b[0m\u001b[0;34m=\u001b[0m\u001b[0;32mFalse\u001b[0m\u001b[0;34m,\u001b[0m\u001b[0;34m\u001b[0m\n",
       "\u001b[0;34m\u001b[0m    \u001b[0mdropna\u001b[0m\u001b[0;34m=\u001b[0m\u001b[0;32mTrue\u001b[0m\u001b[0;34m,\u001b[0m\u001b[0;34m\u001b[0m\n",
       "\u001b[0;34m\u001b[0m    \u001b[0mmargins_name\u001b[0m\u001b[0;34m=\u001b[0m\u001b[0;34m'All'\u001b[0m\u001b[0;34m,\u001b[0m\u001b[0;34m\u001b[0m\n",
       "\u001b[0;34m\u001b[0m\u001b[0;34m)\u001b[0m\u001b[0;34m\u001b[0m\u001b[0;34m\u001b[0m\u001b[0m\n",
       "\u001b[0;31mDocstring:\u001b[0m\n",
       "Create a spreadsheet-style pivot table as a DataFrame. The levels in\n",
       "the pivot table will be stored in MultiIndex objects (hierarchical\n",
       "indexes) on the index and columns of the result DataFrame.\n",
       "\n",
       "Parameters\n",
       "----------\n",
       "values : column to aggregate, optional\n",
       "index : column, Grouper, array, or list of the previous\n",
       "    If an array is passed, it must be the same length as the data. The\n",
       "    list can contain any of the other types (except list).\n",
       "    Keys to group by on the pivot table index.  If an array is passed,\n",
       "    it is being used as the same manner as column values.\n",
       "columns : column, Grouper, array, or list of the previous\n",
       "    If an array is passed, it must be the same length as the data. The\n",
       "    list can contain any of the other types (except list).\n",
       "    Keys to group by on the pivot table column.  If an array is passed,\n",
       "    it is being used as the same manner as column values.\n",
       "aggfunc : function, list of functions, dict, default numpy.mean\n",
       "    If list of functions passed, the resulting pivot table will have\n",
       "    hierarchical columns whose top level are the function names\n",
       "    (inferred from the function objects themselves)\n",
       "    If dict is passed, the key is column to aggregate and value\n",
       "    is function or list of functions\n",
       "fill_value : scalar, default None\n",
       "    Value to replace missing values with\n",
       "margins : boolean, default False\n",
       "    Add all row / columns (e.g. for subtotal / grand totals)\n",
       "dropna : boolean, default True\n",
       "    Do not include columns whose entries are all NaN\n",
       "margins_name : string, default 'All'\n",
       "    Name of the row / column that will contain the totals\n",
       "    when margins is True.\n",
       "\n",
       "Returns\n",
       "-------\n",
       "table : DataFrame\n",
       "\n",
       "See Also\n",
       "--------\n",
       "DataFrame.pivot : Pivot without aggregation that can handle\n",
       "    non-numeric data.\n",
       "\n",
       "Examples\n",
       "--------\n",
       ">>> df = pd.DataFrame({\"A\": [\"foo\", \"foo\", \"foo\", \"foo\", \"foo\",\n",
       "...                          \"bar\", \"bar\", \"bar\", \"bar\"],\n",
       "...                    \"B\": [\"one\", \"one\", \"one\", \"two\", \"two\",\n",
       "...                          \"one\", \"one\", \"two\", \"two\"],\n",
       "...                    \"C\": [\"small\", \"large\", \"large\", \"small\",\n",
       "...                          \"small\", \"large\", \"small\", \"small\",\n",
       "...                          \"large\"],\n",
       "...                    \"D\": [1, 2, 2, 3, 3, 4, 5, 6, 7],\n",
       "...                    \"E\": [2, 4, 5, 5, 6, 6, 8, 9, 9]})\n",
       ">>> df\n",
       "     A    B      C  D  E\n",
       "0  foo  one  small  1  2\n",
       "1  foo  one  large  2  4\n",
       "2  foo  one  large  2  5\n",
       "3  foo  two  small  3  5\n",
       "4  foo  two  small  3  6\n",
       "5  bar  one  large  4  6\n",
       "6  bar  one  small  5  8\n",
       "7  bar  two  small  6  9\n",
       "8  bar  two  large  7  9\n",
       "\n",
       "This first example aggregates values by taking the sum.\n",
       "\n",
       ">>> table = pivot_table(df, values='D', index=['A', 'B'],\n",
       "...                     columns=['C'], aggfunc=np.sum)\n",
       ">>> table\n",
       "C        large  small\n",
       "A   B\n",
       "bar one      4      5\n",
       "    two      7      6\n",
       "foo one      4      1\n",
       "    two    NaN      6\n",
       "\n",
       "We can also fill missing values using the `fill_value` parameter.\n",
       "\n",
       ">>> table = pivot_table(df, values='D', index=['A', 'B'],\n",
       "...                     columns=['C'], aggfunc=np.sum, fill_value=0)\n",
       ">>> table\n",
       "C        large  small\n",
       "A   B\n",
       "bar one      4      5\n",
       "    two      7      6\n",
       "foo one      4      1\n",
       "    two      0      6\n",
       "\n",
       "The next example aggregates by taking the mean across multiple columns.\n",
       "\n",
       ">>> table = pivot_table(df, values=['D', 'E'], index=['A', 'C'],\n",
       "...                     aggfunc={'D': np.mean,\n",
       "...                              'E': np.mean})\n",
       ">>> table\n",
       "                  D         E\n",
       "               mean      mean\n",
       "A   C\n",
       "bar large  5.500000  7.500000\n",
       "    small  5.500000  8.500000\n",
       "foo large  2.000000  4.500000\n",
       "    small  2.333333  4.333333\n",
       "\n",
       "We can also calculate multiple types of aggregations for any given\n",
       "value column.\n",
       "\n",
       ">>> table = pivot_table(df, values=['D', 'E'], index=['A', 'C'],\n",
       "...                     aggfunc={'D': np.mean,\n",
       "...                              'E': [min, max, np.mean]})\n",
       ">>> table\n",
       "                  D   E\n",
       "               mean max      mean min\n",
       "A   C\n",
       "bar large  5.500000  9   7.500000   6\n",
       "    small  5.500000  9   8.500000   8\n",
       "foo large  2.000000  5   4.500000   4\n",
       "    small  2.333333  6   4.333333   2\n",
       "\u001b[0;31mFile:\u001b[0m      /anaconda3/envs/pycon/lib/python3.7/site-packages/pandas/core/frame.py\n",
       "\u001b[0;31mType:\u001b[0m      method\n"
      ]
     },
     "metadata": {},
     "output_type": "display_data"
    }
   ],
   "source": [
    "state_households.pivot_table?"
   ]
  },
  {
   "cell_type": "markdown",
   "metadata": {},
   "source": [
    "What we need are four things:\n",
    "1. What variable will become our `index`?\n",
    "2. What variable will become our `columns`?\n",
    "3. What variable will become our `values`?\n",
    "4. How will we aggregate our values?\n",
    "\n",
    "Pandas is going to grab each unique value in the variables you choose and use those as rows in your `.index` or separate columns in your `.columns`. The `values` variable should be _quantitative_ in this case (but it doesn't have to be, necessarily). `.pivot_table` will by default find the `mean` of your `values` variable for each cell in your new table, in this case we don't care about the `mean`, we want to `sum` up the total number of households."
   ]
  },
  {
   "cell_type": "markdown",
   "metadata": {},
   "source": [
    "Try the following:\n",
    "\n",
    "```python\n",
    "state_households.pivot_table(\n",
    "    index = '______',\n",
    "    columns = '______', \n",
    "    values = 'hhwt',\n",
    "    aggfunc = '___',\n",
    "    margins = True,\n",
    ")\n",
    "```"
   ]
  },
  {
   "cell_type": "code",
   "execution_count": 69,
   "metadata": {},
   "outputs": [
    {
     "data": {
      "text/html": [
       "<div>\n",
       "<style scoped>\n",
       "    .dataframe tbody tr th:only-of-type {\n",
       "        vertical-align: middle;\n",
       "    }\n",
       "\n",
       "    .dataframe tbody tr th {\n",
       "        vertical-align: top;\n",
       "    }\n",
       "\n",
       "    .dataframe thead th {\n",
       "        text-align: right;\n",
       "    }\n",
       "</style>\n",
       "<table border=\"1\" class=\"dataframe\">\n",
       "  <thead>\n",
       "    <tr style=\"text-align: right;\">\n",
       "      <th>cihispeed</th>\n",
       "      <th>n/a (gq)</th>\n",
       "      <th>yes (cable modem, fiber optic or dsl service)</th>\n",
       "      <th>no</th>\n",
       "      <th>All</th>\n",
       "    </tr>\n",
       "    <tr>\n",
       "      <th>racen</th>\n",
       "      <th></th>\n",
       "      <th></th>\n",
       "      <th></th>\n",
       "      <th></th>\n",
       "    </tr>\n",
       "  </thead>\n",
       "  <tbody>\n",
       "    <tr>\n",
       "      <th>Am. Indian / Alaska Native</th>\n",
       "      <td>60.0</td>\n",
       "      <td>1140.0</td>\n",
       "      <td>529.0</td>\n",
       "      <td>1729.0</td>\n",
       "    </tr>\n",
       "    <tr>\n",
       "      <th>Asian / Pacific Islander</th>\n",
       "      <td>1172.0</td>\n",
       "      <td>24535.0</td>\n",
       "      <td>2172.0</td>\n",
       "      <td>27879.0</td>\n",
       "    </tr>\n",
       "    <tr>\n",
       "      <th>Black/African-American</th>\n",
       "      <td>15254.0</td>\n",
       "      <td>114289.0</td>\n",
       "      <td>30805.0</td>\n",
       "      <td>160348.0</td>\n",
       "    </tr>\n",
       "    <tr>\n",
       "      <th>Latino</th>\n",
       "      <td>4408.0</td>\n",
       "      <td>37101.0</td>\n",
       "      <td>10413.0</td>\n",
       "      <td>51922.0</td>\n",
       "    </tr>\n",
       "    <tr>\n",
       "      <th>White</th>\n",
       "      <td>55415.0</td>\n",
       "      <td>717266.0</td>\n",
       "      <td>118725.0</td>\n",
       "      <td>891406.0</td>\n",
       "    </tr>\n",
       "    <tr>\n",
       "      <th>other</th>\n",
       "      <td>2827.0</td>\n",
       "      <td>15937.0</td>\n",
       "      <td>4470.0</td>\n",
       "      <td>23234.0</td>\n",
       "    </tr>\n",
       "    <tr>\n",
       "      <th>All</th>\n",
       "      <td>167114.0</td>\n",
       "      <td>79136.0</td>\n",
       "      <td>910268.0</td>\n",
       "      <td>1156518.0</td>\n",
       "    </tr>\n",
       "  </tbody>\n",
       "</table>\n",
       "</div>"
      ],
      "text/plain": [
       "cihispeed                   n/a (gq)  \\\n",
       "racen                                  \n",
       "Am. Indian / Alaska Native      60.0   \n",
       "Asian / Pacific Islander      1172.0   \n",
       "Black/African-American       15254.0   \n",
       "Latino                        4408.0   \n",
       "White                        55415.0   \n",
       "other                         2827.0   \n",
       "All                         167114.0   \n",
       "\n",
       "cihispeed                   yes (cable modem, fiber optic or dsl service)  \\\n",
       "racen                                                                       \n",
       "Am. Indian / Alaska Native                                         1140.0   \n",
       "Asian / Pacific Islander                                          24535.0   \n",
       "Black/African-American                                           114289.0   \n",
       "Latino                                                            37101.0   \n",
       "White                                                            717266.0   \n",
       "other                                                             15937.0   \n",
       "All                                                               79136.0   \n",
       "\n",
       "cihispeed                         no        All  \n",
       "racen                                            \n",
       "Am. Indian / Alaska Native     529.0     1729.0  \n",
       "Asian / Pacific Islander      2172.0    27879.0  \n",
       "Black/African-American       30805.0   160348.0  \n",
       "Latino                       10413.0    51922.0  \n",
       "White                       118725.0   891406.0  \n",
       "other                         4470.0    23234.0  \n",
       "All                         910268.0  1156518.0  "
      ]
     },
     "execution_count": 69,
     "metadata": {},
     "output_type": "execute_result"
    }
   ],
   "source": [
    "state_households.pivot_table(\n",
    "    index = 'racen',\n",
    "    columns = 'cihispeed', \n",
    "    values = 'hhwt',\n",
    "    aggfunc = 'sum',\n",
    "    margins = True,\n",
    ")"
   ]
  },
  {
   "cell_type": "markdown",
   "metadata": {},
   "source": [
    "Save it to an appropriately named variable."
   ]
  },
  {
   "cell_type": "code",
   "execution_count": 70,
   "metadata": {},
   "outputs": [],
   "source": [
    "households_pivot_table = state_households.pivot_table(\n",
    "    index = 'racen',\n",
    "    columns = 'cihispeed', \n",
    "    values = 'hhwt',\n",
    "    aggfunc = 'sum',\n",
    "    margins = True,\n",
    ")"
   ]
  },
  {
   "cell_type": "markdown",
   "metadata": {},
   "source": [
    "What do you think the next step should be?"
   ]
  },
  {
   "cell_type": "code",
   "execution_count": 71,
   "metadata": {},
   "outputs": [
    {
     "data": {
      "text/plain": [
       "racen\n",
       "Am. Indian / Alaska Native    0.659341\n",
       "Asian / Pacific Islander      0.880053\n",
       "Black/African-American        0.712756\n",
       "Latino                        0.714553\n",
       "White                         0.804646\n",
       "other                         0.685934\n",
       "All                           0.068426\n",
       "dtype: float64"
      ]
     },
     "execution_count": 71,
     "metadata": {},
     "output_type": "execute_result"
    }
   ],
   "source": [
    "households_pivot_table['yes (cable modem, fiber optic or dsl service)'] / households_pivot_table['All']"
   ]
  }
 ],
 "metadata": {
  "kernelspec": {
   "display_name": "Python 3",
   "language": "python",
   "name": "python3"
  },
  "language_info": {
   "codemirror_mode": {
    "name": "ipython",
    "version": 3
   },
   "file_extension": ".py",
   "mimetype": "text/x-python",
   "name": "python",
   "nbconvert_exporter": "python",
   "pygments_lexer": "ipython3",
   "version": "3.7.3"
  }
 },
 "nbformat": 4,
 "nbformat_minor": 2
}
