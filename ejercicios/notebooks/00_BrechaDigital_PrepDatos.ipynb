{
 "cells": [
  {
   "cell_type": "markdown",
   "metadata": {},
   "source": [
    "# Proyecto 1: Brecha Digital\n",
    "### Preparación de datos\n",
    "\n",
    "#### Basado en el reporte [\"La Brecha Digital en California\"](https://www.ppic.org/wp-content/uploads/jtf-californias-digital-divide-in-spanish.pdf)"
   ]
  },
  {
   "cell_type": "markdown",
   "metadata": {},
   "source": [
    "## Pregunta(s) de Investigación:\n",
    "1. ¿Qué porcentaje de hogares en el estado X tiene acceso a internet de alta velocidad?\n",
    "2. ¿Varía este número según los grupos demográficos? (en este caso raza/etnia."
   ]
  },
  {
   "cell_type": "markdown",
   "metadata": {},
   "source": [
    "## Meta:\n",
    "* Explorar los archivos de datos (`acsdata.data.gz`) y crear un _conjunto de datos analítico_ (un archivo derivado enfocado específicamente en análisis en mano)."
   ]
  },
  {
   "cell_type": "markdown",
   "metadata": {},
   "source": [
    "## Contexto:\n",
    "Obtenimos datos de la encuesta American Community Survey (ACS) de [IPUMS](https://usa.ipums.org/usa/). <br>\n",
    "Contiene características demográficas:\n",
    "  - edad\n",
    "  - sexo\n",
    "  - raza/etnia\n",
    "\n",
    "e indicadores geográficos:\n",
    "  - estado\n",
    "  - condado"
   ]
  },
  {
   "cell_type": "markdown",
   "metadata": {},
   "source": [
    "***"
   ]
  },
  {
   "cell_type": "markdown",
   "metadata": {},
   "source": [
    "#### Paso 1: Prepara tu entorno de trabajo.\n",
    "\n",
    "**Import**a las bibliotecas necesarias y crea objetos `Path` (ruta de archivo). Esto grarantiza reproducibilidad en distintos sistemas operativos (Windows utiliza `\\` en lugar de `/` para separar los nombres de archivos."
   ]
  },
  {
   "cell_type": "markdown",
   "metadata": {},
   "source": [
    "Necesitamos: \n",
    "1. `pandas` para trabajar con los datos.\n",
    "2. `pathlib`, y más específicamente su objeto `Path`, para trabajar con rutas de archivos. Esto asegura que nuestro código funcione en Windows (que utiliza `\\` en sus rutas) y MacOS/Linux (los cuales utilizan `/`).\n",
    "3. `datetime` - tip: Existen sistemas de control de versiones para datos pero etiquetar tus archivos de datos (cuando no son masivos) no es un mal primer paso si estás comenzando."
   ]
  },
  {
   "cell_type": "code",
   "execution_count": 1,
   "metadata": {},
   "outputs": [
    {
     "name": "stdout",
     "output_type": "stream",
     "text": [
      "27-Apr-19\n"
     ]
    }
   ],
   "source": [
    "# Prepara tu entorno de trabajo\n",
    "import _____ as pd\n",
    "from _____ import Path\n",
    "from datetime import datetime as dt\n",
    "today = __.today().strftime(\"%d-%b-%y\")\n",
    "\n",
    "print(hoy)"
   ]
  },
  {
   "cell_type": "markdown",
   "metadata": {},
   "source": [
    "_nota: Aunque estés utilizando Windows puedes escribir_ `/` _en tus rutas de archivo._"
   ]
  },
  {
   "cell_type": "code",
   "execution_count": 2,
   "metadata": {},
   "outputs": [],
   "source": [
    "# Directorio de datos y rutas\n",
    "RUTA_DATOS_EN_BRUTO = ____(\"../datos/brutos/\")\n",
    "RUTA_DATOS_________ = ____(\"../datos/interinos/\")\n",
    "RUTA_______________ = ____(\"../datos/procesados/\")\n",
    "___________________ = ____(\"../datos/finales/\")"
   ]
  },
  {
   "cell_type": "markdown",
   "metadata": {},
   "source": [
    "**NOTA:** He incluido un _script_ de `python` llamado `herramientas.py` con la función `arbol` la cual muestra el árbol de directorios. La obtuvé de el [tutorial de RealPython's sobre el módulo `pathlib`](https://realpython.com/python-pathlib/)).\n",
    "\n",
    "    de nuestro script herramientas importa arbol para utilizarla"
   ]
  },
  {
   "cell_type": "code",
   "execution_count": null,
   "metadata": {},
   "outputs": [],
   "source": []
  },
  {
   "cell_type": "code",
   "execution_count": null,
   "metadata": {},
   "outputs": [],
   "source": [
    "arbol(________)"
   ]
  },
  {
   "cell_type": "markdown",
   "metadata": {},
   "source": [
    "***"
   ]
  },
  {
   "cell_type": "markdown",
   "metadata": {},
   "source": [
    "#### Paso 2: Carga y explora los datos\n",
    "\n",
    "Con `pandas` _leer_ archivos de datos es tan fácil como escribir `.read_csv(RUTA_AL_ARCHIVO_CSV)` y esto es suficiente la mayoría del tiempo. La función `read_csv()` de `Pandas` es tan poderosa que incluso lee archivos comprimidos sin tener que especificar algún otro parametro. Prueba lo siguiente:\n",
    "\n",
    "```python\n",
    "datos = pd.read_csv(RUTA_DATOS_EN_BRUTO / 'acs_data.csv.gz')\n",
    "datos.head()\n",
    "```\n",
    "_Asegurate de cambiar_ `RUTA_DE_DATOS_EN_BRUTO` _a lo que seaque hayas llamado tu variable a la que asignaste el objeto `Path` con la ruta a tus datos en bruto._"
   ]
  },
  {
   "cell_type": "code",
   "execution_count": null,
   "metadata": {},
   "outputs": [],
   "source": [
    "\n"
   ]
  },
  {
   "cell_type": "markdown",
   "metadata": {},
   "source": [
    "***\n",
    "IPUMS ofrece algunos formatos de datos que pueden ser aún más útiles [[docs]](https://usa.ipums.org/usa-action/faq#ques12):\n",
    "> Además del archivo de datos ASCII, el sistema crea un archivo de sintaxis de paquetes estadísticos para acompañar cada extracto. El archivo de sintaxis está diseñado para leer los datos ASCII mientras se aplican las variables de valor y las etiquetas apropiadas. SPSS, SAS y Stata son compatibles. Debe descargar el archivo de sintaxis con el extracto o no podrá leer los datos. El archivo de sintaxis requiere una edición menor para identificar la ubicación del archivo de datos en su computadora local."
   ]
  },
  {
   "cell_type": "markdown",
   "metadata": {},
   "source": [
    "En este caso, usaremos un archivo **Stata** (`.dta`). La razón principal es que los archivos `.dta` pueden almacenar *etiquetas de valor* que` pandas` luego puede leer y convertir columnas en columnas `Categóricas` en nuestro marco de datos de pandas. Esto 1) ahorra memoria, y 2) es una buena práctica porque ciertas ciencias sociales en serio, en serio _en serio_, y en serio _en serio_ ***en serio*** aman a Stata, por lo que sus conjuntos de datos interesantes son probablemente archivos `.dta`."
   ]
  },
  {
   "cell_type": "markdown",
   "metadata": {},
   "source": [
    "Sin embargo, `pandas` no puede leer` .dta` comprimido directamente como lo hace con los archivos `.csv`. Afortunadamente, IPUMS utiliza el formato comprimido *gzip* y `python` incluye un módulo` gzip` en su biblioteca estándar.\n",
    "\n",
    "**Import**a gzip y prueba lo siguiente:\n",
    "```python\n",
    "with gzip.open(RUTA_DATOS_EN_BRUTO / 'acs_data.dta.gz') as archivo:\n",
    "    datos = pd.read_stata(archivo)\n",
    "```\n",
    "\n",
    "y muestra las primeras cinco filas de tu `datos` _DataFrame_."
   ]
  },
  {
   "cell_type": "code",
   "execution_count": null,
   "metadata": {},
   "outputs": [],
   "source": [
    "# importa gzip y carga tus datos\n",
    "\n",
    "\n"
   ]
  },
  {
   "cell_type": "code",
   "execution_count": null,
   "metadata": {},
   "outputs": [],
   "source": [
    "# muestra las primeras 5 filas\n"
   ]
  },
  {
   "cell_type": "markdown",
   "metadata": {},
   "source": [
    "***"
   ]
  },
  {
   "cell_type": "markdown",
   "metadata": {},
   "source": [
    "#### Paso 3: Familiarizate con el conjunto de datos.\n",
    "Ya hemos visto `.head()` - el método de `pandas` que mostrará las primeras 5 filas de tu DataFrame. Esto te da una idea de cómo se ven sus datos. Sin embargo, hay mucho más `.info()` que puede salir de su marco de datos. También puede simplemente pedirle al DataFrame si los `.describe()`..."
   ]
  },
  {
   "cell_type": "code",
   "execution_count": null,
   "metadata": {},
   "outputs": [],
   "source": [
    "# averigua más info de tu DataFrame\n",
    "data.____()"
   ]
  },
  {
   "cell_type": "code",
   "execution_count": null,
   "metadata": {},
   "outputs": [],
   "source": [
    "# describe tus datos\n",
    "data.____()"
   ]
  },
  {
   "cell_type": "markdown",
   "metadata": {},
   "source": [
    "Comprueba la 'forma' de tus datos con su atributo `.shape`. Note la falta de paréntesis."
   ]
  },
  {
   "cell_type": "code",
   "execution_count": null,
   "metadata": {},
   "outputs": [],
   "source": [
    "data._____"
   ]
  },
  {
   "cell_type": "markdown",
   "metadata": {},
   "source": [
    "***"
   ]
  },
  {
   "cell_type": "markdown",
   "metadata": {},
   "source": [
    "#### Paso 4: Recorta tus datos\n",
    "En este momento estás trabajando con tu **archivo maestro**: un conjunto de datos que contiene todo lo que _podría_ necesita para su análisis. Realmente no deseas modificar este conjunto de datos porque podría estar usándolo para otros análisis. Por ejemplo, vamos a analizar el acceso a Internet de alta velocidad en un estado de tu elección, pero la próxima semana es posible que desees realizar el mismo análisis en otro estado o tal vez solo en un condado específico. Para asegurarse de que puedas **reutilizar** tus datos y tu código más adelante, creamos un _archivo de análisis_, un conjunto de datos que contiene solo los datos necesarios para **este** análisis específico a mano."
   ]
  },
  {
   "cell_type": "markdown",
   "metadata": {},
   "source": [
    "Primero, solo estamos interesados en encontrar la _ \"Brecha Digital\" de un estado en este momento. El **archivo maestro** contiene datos de los 50 estados y el distrito de Columbia.\n",
    "\n",
    "Lo que quieres hacer es encontrar todas las filas donde el `statefip` coincide con el nombre de tu estado. Esto se llama indexación booleana.\n",
    "\n",
    "Prueba lo siguiente:\n",
    "```python\n",
    "data['statefip'] == 'ohio'\n",
    "```\n",
    "_Nota: Tu puedes cambiar 'ohio' a cualquiera de los 50 estados o 'district of columbia' para DC._"
   ]
  },
  {
   "cell_type": "code",
   "execution_count": null,
   "metadata": {},
   "outputs": [],
   "source": [
    "# Prueba indexación booleanda\n",
    "___['______'] == '_______'"
   ]
  },
  {
   "cell_type": "markdown",
   "metadata": {},
   "source": [
    "Esto devolverá un `pandas.Series` de booleanos (Trues y Falses) que luego puede usar para filtrar las filas innecesarias.\n",
    "\n",
    "Es una buena práctica guardar esta _Serie_ como una variable al principio de tu código (si la conoces de antemano) o justo antes de usarla en caso de que use estas condiciones en más de un lugar. Esto te ahorrará tiempo si decide cambiar el valor que está comparando, `'ohio'` para`' california'` por ejemplo.\n",
    "\n",
    "```python\n",
    "mascara_estado = (datos['statefip'] == 'ohio')\n",
    "datos[mascara_estado].head()\n",
    "```"
   ]
  },
  {
   "cell_type": "code",
   "execution_count": null,
   "metadata": {},
   "outputs": [],
   "source": [
    "# hazlo tu\n",
    "mascara_estado = (________________________ == _______)\n",
    "datos[mascara_estado].____()"
   ]
  },
  {
   "cell_type": "markdown",
   "metadata": {},
   "source": [
    "Guardemoslo en una variable con un nombre más útil:\n",
    "\n",
    "```python\n",
    "datos_estatales = datos[mascara_estado].copy()\n",
    "```"
   ]
  },
  {
   "cell_type": "markdown",
   "metadata": {},
   "source": [
    "Tienes que utilizar `.copy()` para crear copias _reales_ de los datos. Si ejecutas:\n",
    "```python\n",
    "datos_estatales = datos[mascara_estado]\n",
    "```\n",
    "`datos_estatales` sería lo que la documentación de `pandas` se refiere como una _vista_ de DataFrame `datos`. Esto puede tener consecuencias más adelante si modificas estos DataFrames. Muchas veces recibirás solo una advertencia y tu código se ejecutará tal como lo esperabas - pero, ¿para qué tomar riesgos?"
   ]
  },
  {
   "cell_type": "code",
   "execution_count": null,
   "metadata": {},
   "outputs": [],
   "source": [
    "# asigna tu nuevo DataFrame a la variable datos_estatales\n",
    "datos_estatales = __________.copy()"
   ]
  },
  {
   "cell_type": "markdown",
   "metadata": {},
   "source": [
    "Ahora, veamos que `.columns` tenemos en nuestro DataFrame. Puedes acceder esta información de la misma manera que encontramos la _\"forma\"_ hace un rato."
   ]
  },
  {
   "cell_type": "code",
   "execution_count": null,
   "metadata": {},
   "outputs": [],
   "source": [
    "datos_estatales._____"
   ]
  },
  {
   "cell_type": "markdown",
   "metadata": {},
   "source": [
    "¿Hay columnas de las cuales **tienes seguridad** que no vas a necesitar? <br> Si no estás 90% seguro de que no vas a necesitar una columna, no te deshagas de ella.\n",
    "\n",
    "Eliminar columnas es tan fácil como utilizar `.drop()` en tu DataFrame.\n",
    "\n",
    "```python\n",
    "datos_estatales.drop(columns = ['lista', 'de', 'columnas', 'pa', 'eliminar'])\n",
    "```"
   ]
  },
  {
   "cell_type": "code",
   "execution_count": null,
   "metadata": {},
   "outputs": [],
   "source": []
  },
  {
   "cell_type": "markdown",
   "metadata": {},
   "source": [
    "Si hay columnas que tu _crees_ que no vas a necesitar pero no tienes mucha seguridad de que ese es el caso, deberías explorarlas.\n",
    "\n",
    "Las columnas de los DataFrames de `pandas` son `pandas.Series` y tienen métodos y atributos como los DataFrames."
   ]
  },
  {
   "cell_type": "markdown",
   "metadata": {},
   "source": [
    "Exploremos la columna `gq` que representa los valores de la variable `Group Quarters`. La [documentación](https://usa.ipums.org/usa-action/variables/GQ#description_section) de IPUMS define _Group Quarters_ así:\n",
    "\n",
    ">Group quarters son en su mayoría instituciones y otras viviendas para grupos, por ejemplo, barracas militares y dormitorios."
   ]
  },
  {
   "cell_type": "markdown",
   "metadata": {},
   "source": [
    "Exploremos que valores _unicos_ (`.unique()`) tiene la Serie `datos_estatales['gq']`..."
   ]
  },
  {
   "cell_type": "code",
   "execution_count": null,
   "metadata": {},
   "outputs": [],
   "source": []
  },
  {
   "cell_type": "markdown",
   "metadata": {},
   "source": [
    "Tambien podemos ver las cuentas totales de los sus valores (`.value_counts()`) lo que nos daría una mejor idea de que tan útil esta columna podría ser.<br>\n",
    "Por ejemplo, si una columna tiene 2 valores pero 99% de sus observaciones tiene un valor y el resto tiene otro - en este caso, podrías deshacerte de esa columna ya que no agregaría mucho valor a tu análisis.\n",
    "\n",
    "<i><span style=\"font-size:12px\"> Hay algunas variables donde el 100% de sus filas tienen el mismo valor \\*tos\\* \\*tos\\* </i><span style=\"font-family:monospace\">datos_estatales['year'] </span>"
   ]
  },
  {
   "cell_type": "code",
   "execution_count": null,
   "metadata": {},
   "outputs": [],
   "source": []
  },
  {
   "cell_type": "markdown",
   "metadata": {},
   "source": [
    "De la [documentación](https://usa.ipums.org/usa-action/variables/GQ#comparability_section) de IPUMS:\n",
    ">Hay tres definiciones un poco diferentes de _group quarters_ en IPUMS. Para el periodo 1940-1970 (excluyendo el conjunto de datos 100% de 1940), _group quarters_ eran unidades de vivienda con 5 o más individuos sin relación a la cabeza de la vivienda. Antes de 1940 y en 1980-1990, unidades con 10 o más individuos sin relación a la cabeza de la vivienda eran considerados _group quarters_. **En el censo del 2000, 2010, la ACS y la PRCS, ningún límite fue aplicado; para que un hogar fuera considerado _group quarter_, tenía que estar en una lista de _group quarters_ que el Censo mantiene continuamente. En años pasados, una lista similar fue utilizada, con la regla sobre personas-sin-relación immpuesta como seguridad.** "
   ]
  },
  {
   "cell_type": "markdown",
   "metadata": {},
   "source": [
    "Por esta razón, y por el hecho de que la gran mayoría de nuestras observaciones caen bajo la definición de 1970 y 1990, estas son a las que nos apegaremos para nuestro análisis."
   ]
  },
  {
   "cell_type": "markdown",
   "metadata": {},
   "source": [
    "Creemos otra _mascara_ para filtrar todos los hogares que no caen bajo nuestra definición\n",
    "\n",
    "Para evaluar multiples condiciones utilizamos los operadores `&` y `|` (\"**Y**\" y \"__O__\", respectivamente)."
   ]
  },
  {
   "cell_type": "code",
   "execution_count": null,
   "metadata": {},
   "outputs": [],
   "source": [
    "mascara_hogar = ( PRIMERA CONDICION ) | ( SEGUNDA CONDICION )"
   ]
  },
  {
   "cell_type": "markdown",
   "metadata": {},
   "source": [
    "**nota**: Otro valor agregado al utilizar variables de tipo _categórico_ es que ***sí*** son valores ordenados puedes utilizar los operadores `<` y `>` para evaluar condiciones.\n",
    "\n",
    "```python\n",
    "mascara_hogar = (datos_estatales['gq'] <= 'additional households under 1990 definition')\n",
    "```"
   ]
  },
  {
   "cell_type": "markdown",
   "metadata": {},
   "source": [
    "<summary><i>nota</i>:\n",
    "    <details value=\"nota\">\n",
    "        <i>Porque estamos sobreescribiendo</i> <span style=\"font-family:monospace\">datos_estatales</span> <i>no necesitas utilizar</i> <span style=\"font-family:monospace\">.copy()</span> <i>pero no nos afecta utilizarlo. Además, si eres principiante en</i> <span style=\"font-family:monospace\">pandas</span> <i>es buena practica para cuando en serio necesites utilizar</i> <span style=\"font-family:monospace\">.copy()</span>.\n",
    "    </details>\n",
    "</summary>"
   ]
  },
  {
   "cell_type": "code",
   "execution_count": null,
   "metadata": {},
   "outputs": [],
   "source": [
    "datos_estatales = datos_estatales[mascara_hogar].______()"
   ]
  },
  {
   "cell_type": "markdown",
   "metadata": {},
   "source": [
    "Para este momento ya estas muy cerca de crear un `datos_analisis` DataFrame. Hasta ahora:\n",
    "1. Mantuviste los datos de un solo estado y te deshiciste del resto.\n",
    "2. Mantuviste los datos de aquellos _hogares_ en los que tenemos interés y te deshiciste del resto."
   ]
  },
  {
   "cell_type": "markdown",
   "metadata": {},
   "source": [
    "Nuestra pregunta de investigación 1 es: _\"¿Qué porcentage de hogares en el estado X tiene acceso a internet de alta velocidad?\"_\n",
    "\n",
    "Matemáticamente, \n",
    "$$ \\frac{hogares\\ con\\ internet\\ de\\ alta\\ velocidad}{hogares\\ en\\ el\\ estado}$$\n",
    "\n",
    "Tu conjunto de datos `datos_estatales` ahora contiene todo lo que necesitas para encontrar la respuesta."
   ]
  },
  {
   "cell_type": "markdown",
   "metadata": {},
   "source": [
    "***"
   ]
  },
  {
   "cell_type": "markdown",
   "metadata": {},
   "source": [
    "#### Paso 5: Guarda tus datos\n",
    "Ahora que haz recordado tu **archivo maestro** en un conjunto de datos enfocado para tu análisis, deberías guardarlo.\n",
    "\n",
    "Hemos estado trabajando con un archivo `.dta` y sale mejor mantenerlo así.\n",
    "\n",
    "Prueba lo siguiente:\n",
    "```python\n",
    "datos_estatales.to_stata(RUTA_DATOS_INTERINOS / f'datos_estatales-{hoy}.dta', write_index = False)\n",
    "```"
   ]
  },
  {
   "cell_type": "markdown",
   "metadata": {},
   "source": [
    "Un par de cosas:\n",
    "1. Estamos utilizando `f-strings` para etiquetar nuestro archivo de datos con la fecha de hoy.\n",
    "2. Estamos apagando la bandera `write_index` para que al grabar nuestro archivo no se le agregue una columna \"index\" (índice). Es nuestro conjunto de datos el índice no tiene valor. En otros análisis puede que tengas un índice que tenga algún valor o significado - en esos casos no vas a querer _apagar_ esta bandera."
   ]
  },
  {
   "cell_type": "code",
   "execution_count": null,
   "metadata": {},
   "outputs": [],
   "source": []
  },
  {
   "cell_type": "markdown",
   "metadata": {},
   "source": [
    "***"
   ]
  },
  {
   "cell_type": "markdown",
   "metadata": {},
   "source": [
    "#### Paso 6: Bonus\n",
    "¿Qué tal si cambiaramos nuestra pregunta de investigación un poco? de <br> _\"¿Qué porcentaje de hogares en el estado X tienen acceso a internet de alta velocidad?_\" <br> a <br> _\"¿Qué porcentaje de hogares **con niños y niñas de edad escolar** en el estado X tiene acceso a internet de alta velocidad?\"_"
   ]
  },
  {
   "cell_type": "markdown",
   "metadata": {},
   "source": [
    "Esto sería una estadística interecante para los creadores de políticas públicas, especialmente si encontramos diferencias entre grupos demográficos (pregunta de investigación 2).\n",
    "\n",
    "El reto aquí es que nuestra **unidad de observación** en el archivo `datos_estatales` es una persona (ponderada) y que ahora queremos filtrar aquellos **hogares** sin niños o niñas de edad escolar. Esto puede sonar un poco complicado a primera vista pero solo requiere modificar nuestro flujo de trabajo un poco.\n",
    "\n",
    "Necesitamos hacer unas cuantas cosas:\n",
    "1. Definir a que nos referimos con _niños/niñas de edad escolar_.\n",
    "2. Crear una _mascara_ para identificar todos los hogares donde esten estos niños o niñas.\n",
    "3. Crear una lista sin duplicados de estas identificaciones de hogar (`'serial'`) \n",
    "4. Usar esta lista para eliminar todas las observaciones innecesarias."
   ]
  },
  {
   "cell_type": "markdown",
   "metadata": {},
   "source": [
    "#### Step 6.1: School-age children\n",
    "\n",
    "Most people would agree school age (Elementary through High School) is 6 - 17 year olds. Some people are interested in K-12 (5 - 17 or 18). Some people wouldn't include 18 year olds. Whatever measure you choose you must be able to defend why you are choosing it. \n",
    "\n",
    "For this analysis, I'll suggest we use 5 - 18 year olds (K-12) but you can choose whatever age range you want. Maybe high-school kids 14-18? That'd be interesting, you probably need access to high-speed internet at home a lot more in high school than you do in kindergarden. "
   ]
  },
  {
   "cell_type": "code",
   "execution_count": null,
   "metadata": {},
   "outputs": [],
   "source": [
    "mask_children = (state_data['age'] >= ___) & (___________________ <= )"
   ]
  },
  {
   "cell_type": "markdown",
   "metadata": {},
   "source": [
    "<summary> <i>What data type is</i> <span style='font-family:monospace'>state_data['age']</span> <i>again?</i> \n",
    "    <details> \n",
    "        Categorical. This means that you even though its values _look_ like numbers, they're actually _value labels_ aka strings.\n",
    "    </details>\n",
    "</summary>"
   ]
  },
  {
   "cell_type": "markdown",
   "metadata": {},
   "source": [
    "Now that we have our _mask_, we can use it to create a list of households with children in them.\n",
    "\n",
    "Earlier we applied a mask to a dataframe and saved it to another variable. Here, we'll go a step further and grab just a column of that _filtered out_ dataframe.\n",
    "\n",
    "Try it yourself first.\n",
    "\n",
    "*Hint: How did we grab and explore a single column of a dataframe earlier?*"
   ]
  },
  {
   "cell_type": "code",
   "execution_count": null,
   "metadata": {},
   "outputs": [],
   "source": [
    "households_with_children = _________________________________________"
   ]
  },
  {
   "cell_type": "code",
   "execution_count": null,
   "metadata": {},
   "outputs": [],
   "source": [
    "households_with_children.head()"
   ]
  },
  {
   "cell_type": "markdown",
   "metadata": {},
   "source": [
    "How do you think we can `.drop_duplicates()`?"
   ]
  },
  {
   "cell_type": "code",
   "execution_count": null,
   "metadata": {},
   "outputs": [],
   "source": []
  },
  {
   "cell_type": "markdown",
   "metadata": {},
   "source": [
    "Once you have your unduplicated list of households with children all you have to do is to check if a `serial` value from our `state_data` dataset `.isin()` our `households_with_children` series."
   ]
  },
  {
   "cell_type": "code",
   "execution_count": null,
   "metadata": {},
   "outputs": [],
   "source": [
    "\n"
   ]
  },
  {
   "cell_type": "markdown",
   "metadata": {},
   "source": [
    "Let's save that as our `working_data` dataset and save that to memory."
   ]
  },
  {
   "cell_type": "code",
   "execution_count": null,
   "metadata": {},
   "outputs": [],
   "source": [
    "working_data = _____________________"
   ]
  },
  {
   "cell_type": "markdown",
   "metadata": {},
   "source": [
    "```python\n",
    "working_data.to_stata(INTERIM_DATA_PATH / f'working_data-{today}.dta', write_index = False)\n",
    "```"
   ]
  },
  {
   "cell_type": "code",
   "execution_count": null,
   "metadata": {},
   "outputs": [],
   "source": []
  }
 ],
 "metadata": {
  "kernelspec": {
   "display_name": "Python 3",
   "language": "python",
   "name": "python3"
  },
  "language_info": {
   "codemirror_mode": {
    "name": "ipython",
    "version": 3
   },
   "file_extension": ".py",
   "mimetype": "text/x-python",
   "name": "python",
   "nbconvert_exporter": "python",
   "pygments_lexer": "ipython3",
   "version": "3.7.3"
  }
 },
 "nbformat": 4,
 "nbformat_minor": 2
}
